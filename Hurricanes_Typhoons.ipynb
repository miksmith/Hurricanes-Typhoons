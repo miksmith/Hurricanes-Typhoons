{
 "cells": [
  {
   "cell_type": "code",
   "execution_count": 1,
   "metadata": {},
   "outputs": [],
   "source": [
    "# Dependencies\n",
    "# ----------------------------------\n",
    "from sqlalchemy import create_engine\n",
    "from sqlalchemy.ext.declarative import declarative_base\n",
    "import pandas as pd\n",
    "import datetime as dt\n",
    "Base = declarative_base()\n",
    "\n",
    "pd.set_option('display.max_columns', None)\n",
    "\n",
    "from Scripts import sqlconnector"
   ]
  },
  {
   "cell_type": "code",
   "execution_count": 2,
   "metadata": {
    "pycharm": {
     "name": "#%%\n"
    }
   },
   "outputs": [],
   "source": [
    "# Create sqlalchemy Connection\n",
    "connector = sqlconnector.sqliteConnector()"
   ]
  },
  {
   "cell_type": "code",
   "execution_count": 3,
   "outputs": [],
   "source": [
    "# Create Database and Tables\n",
    "sqlconnector.create_tables()"
   ],
   "metadata": {
    "collapsed": false,
    "pycharm": {
     "name": "#%%\n"
    }
   }
  },
  {
   "cell_type": "code",
   "execution_count": 4,
   "outputs": [],
   "source": [
    "atlantic_df = pd.read_csv('Resources/file/atlantic.csv')\n",
    "pacific_df = pd.read_csv('Resources/file/pacific.csv')"
   ],
   "metadata": {
    "collapsed": false,
    "pycharm": {
     "name": "#%% import to pandas\n"
    }
   }
  },
  {
   "cell_type": "code",
   "execution_count": 5,
   "outputs": [],
   "source": [
    "atlantic_cyclone_df = atlantic_df.loc[:, ['ID', 'Name']].drop_duplicates()\n",
    "# add region\n",
    "atlantic_cyclone_df['region'] = 'Atlantic'\n",
    "\n",
    "# fix column names\n",
    "atlantic_cyclone_df = atlantic_cyclone_df.rename(columns={\n",
    "    'ID': 'cyclone_id',\n",
    "    'Name': 'cyclone_name'\n",
    "})"
   ],
   "metadata": {
    "collapsed": false,
    "pycharm": {
     "name": "#%%\n"
    }
   }
  },
  {
   "cell_type": "code",
   "execution_count": 6,
   "outputs": [],
   "source": [
    "atlantic_cyclone_df['cyclone_name'] = atlantic_cyclone_df['cyclone_name'].str.strip()"
   ],
   "metadata": {
    "collapsed": false,
    "pycharm": {
     "name": "#%% fix cyclone_name column to remove space\n"
    }
   }
  },
  {
   "cell_type": "code",
   "execution_count": 7,
   "outputs": [],
   "source": [
    "atlantic_cyclone_df.to_sql('cyclone', connector.engine, index=False, if_exists='replace')"
   ],
   "metadata": {
    "collapsed": false,
    "pycharm": {
     "name": "#%% Write to table\n"
    }
   }
  },
  {
   "cell_type": "code",
   "execution_count": 8,
   "outputs": [],
   "source": [
    "pacific_cyclone_df = pacific_df.loc[:,['ID', 'Name']].drop_duplicates()\n",
    "# add region\n",
    "pacific_cyclone_df['region'] = 'Pacific'\n",
    "\n",
    "# fix column names\n",
    "pacific_cyclone_df = pacific_cyclone_df.rename(columns={\n",
    "    'ID': 'cyclone_id',\n",
    "    'Name': 'cyclone_name'\n",
    "})"
   ],
   "metadata": {
    "collapsed": false,
    "pycharm": {
     "name": "#%%\n"
    }
   }
  },
  {
   "cell_type": "code",
   "execution_count": 9,
   "outputs": [],
   "source": [
    "pacific_cyclone_df['cyclone_name'] = pacific_cyclone_df['cyclone_name'].str.strip()\n"
   ],
   "metadata": {
    "collapsed": false,
    "pycharm": {
     "name": "#%% fix cyclone_name column to remove space\n"
    }
   }
  },
  {
   "cell_type": "code",
   "execution_count": 10,
   "outputs": [],
   "source": [
    "pacific_cyclone_df.to_sql('cyclone', connector.engine, index=False, if_exists='append')"
   ],
   "metadata": {
    "collapsed": false,
    "pycharm": {
     "name": "#%% Write to table\n"
    }
   }
  },
  {
   "cell_type": "code",
   "execution_count": 11,
   "outputs": [
    {
     "data": {
      "text/plain": "  cyclone_id  measure_date  measure_time event status latitude longitude  \\\n0   AL011851      18510625             0           HU    28.0N     94.8W   \n1   AL011851      18510625           600           HU    28.0N     95.4W   \n2   AL011851      18510625          1200           HU    28.0N     96.0W   \n3   AL011851      18510625          1800           HU    28.1N     96.5W   \n4   AL011851      18510625          2100     L     HU    28.2N     96.8W   \n\n   max_wind  min_pressure  low_wind_ne  low_wind_se  low_wind_sw  low_wind_nw  \\\n0        80          -999          999         -999         -999          999   \n1        80          -999          999         -999         -999          999   \n2        80          -999          999         -999         -999          999   \n3        80          -999          999         -999         -999          999   \n4        80          -999          999         -999         -999          999   \n\n   mod_wind_ne  mod_wind_se  mod_wind_sw  mod_wind_nw  high_wind_ne  \\\n0          999         -999         -999          999           999   \n1          999         -999         -999          999           999   \n2          999         -999         -999          999           999   \n3          999         -999         -999          999           999   \n4          999         -999         -999          999           999   \n\n   high_wind_se  high_wind_sw  high_wind_nw  \n0          -999          -999           999  \n1          -999          -999           999  \n2          -999          -999           999  \n3          -999          -999           999  \n4          -999          -999           999  ",
      "text/html": "<div>\n<style scoped>\n    .dataframe tbody tr th:only-of-type {\n        vertical-align: middle;\n    }\n\n    .dataframe tbody tr th {\n        vertical-align: top;\n    }\n\n    .dataframe thead th {\n        text-align: right;\n    }\n</style>\n<table border=\"1\" class=\"dataframe\">\n  <thead>\n    <tr style=\"text-align: right;\">\n      <th></th>\n      <th>cyclone_id</th>\n      <th>measure_date</th>\n      <th>measure_time</th>\n      <th>event</th>\n      <th>status</th>\n      <th>latitude</th>\n      <th>longitude</th>\n      <th>max_wind</th>\n      <th>min_pressure</th>\n      <th>low_wind_ne</th>\n      <th>low_wind_se</th>\n      <th>low_wind_sw</th>\n      <th>low_wind_nw</th>\n      <th>mod_wind_ne</th>\n      <th>mod_wind_se</th>\n      <th>mod_wind_sw</th>\n      <th>mod_wind_nw</th>\n      <th>high_wind_ne</th>\n      <th>high_wind_se</th>\n      <th>high_wind_sw</th>\n      <th>high_wind_nw</th>\n    </tr>\n  </thead>\n  <tbody>\n    <tr>\n      <th>0</th>\n      <td>AL011851</td>\n      <td>18510625</td>\n      <td>0</td>\n      <td></td>\n      <td>HU</td>\n      <td>28.0N</td>\n      <td>94.8W</td>\n      <td>80</td>\n      <td>-999</td>\n      <td>999</td>\n      <td>-999</td>\n      <td>-999</td>\n      <td>999</td>\n      <td>999</td>\n      <td>-999</td>\n      <td>-999</td>\n      <td>999</td>\n      <td>999</td>\n      <td>-999</td>\n      <td>-999</td>\n      <td>999</td>\n    </tr>\n    <tr>\n      <th>1</th>\n      <td>AL011851</td>\n      <td>18510625</td>\n      <td>600</td>\n      <td></td>\n      <td>HU</td>\n      <td>28.0N</td>\n      <td>95.4W</td>\n      <td>80</td>\n      <td>-999</td>\n      <td>999</td>\n      <td>-999</td>\n      <td>-999</td>\n      <td>999</td>\n      <td>999</td>\n      <td>-999</td>\n      <td>-999</td>\n      <td>999</td>\n      <td>999</td>\n      <td>-999</td>\n      <td>-999</td>\n      <td>999</td>\n    </tr>\n    <tr>\n      <th>2</th>\n      <td>AL011851</td>\n      <td>18510625</td>\n      <td>1200</td>\n      <td></td>\n      <td>HU</td>\n      <td>28.0N</td>\n      <td>96.0W</td>\n      <td>80</td>\n      <td>-999</td>\n      <td>999</td>\n      <td>-999</td>\n      <td>-999</td>\n      <td>999</td>\n      <td>999</td>\n      <td>-999</td>\n      <td>-999</td>\n      <td>999</td>\n      <td>999</td>\n      <td>-999</td>\n      <td>-999</td>\n      <td>999</td>\n    </tr>\n    <tr>\n      <th>3</th>\n      <td>AL011851</td>\n      <td>18510625</td>\n      <td>1800</td>\n      <td></td>\n      <td>HU</td>\n      <td>28.1N</td>\n      <td>96.5W</td>\n      <td>80</td>\n      <td>-999</td>\n      <td>999</td>\n      <td>-999</td>\n      <td>-999</td>\n      <td>999</td>\n      <td>999</td>\n      <td>-999</td>\n      <td>-999</td>\n      <td>999</td>\n      <td>999</td>\n      <td>-999</td>\n      <td>-999</td>\n      <td>999</td>\n    </tr>\n    <tr>\n      <th>4</th>\n      <td>AL011851</td>\n      <td>18510625</td>\n      <td>2100</td>\n      <td>L</td>\n      <td>HU</td>\n      <td>28.2N</td>\n      <td>96.8W</td>\n      <td>80</td>\n      <td>-999</td>\n      <td>999</td>\n      <td>-999</td>\n      <td>-999</td>\n      <td>999</td>\n      <td>999</td>\n      <td>-999</td>\n      <td>-999</td>\n      <td>999</td>\n      <td>999</td>\n      <td>-999</td>\n      <td>-999</td>\n      <td>999</td>\n    </tr>\n  </tbody>\n</table>\n</div>"
     },
     "execution_count": 11,
     "metadata": {},
     "output_type": "execute_result"
    }
   ],
   "source": [
    "atlantic_measurement_df = atlantic_df.drop(columns='Name')\n",
    "\n",
    "atlantic_measurement_df = atlantic_measurement_df.rename(columns={\n",
    "    'ID': 'cyclone_id',\n",
    "    'Date': 'measure_date',\n",
    "    'Time': 'measure_time',\n",
    "    'Event': 'event',\n",
    "    'Status': 'status',\n",
    "    'Latitude': 'latitude',\n",
    "    'Longitude': 'longitude',\n",
    "    'Maximum Wind': 'max_wind',\n",
    "    'Minimum Pressure': 'min_pressure',\n",
    "    'Low Wind NE': 'low_wind_ne',\n",
    "    'Low Wind NW': 'low_wind_nw',\n",
    "    'Low Wind SE': 'low_wind_se',\n",
    "    'Low Wind SW': 'low_wind_sw',\n",
    "    'Moderate Wind NE': 'mod_wind_ne',\n",
    "    'Moderate Wind NW': 'mod_wind_nw',\n",
    "    'Moderate Wind SE': 'mod_wind_se',\n",
    "    'Moderate Wind SW': 'mod_wind_sw',\n",
    "    'High Wind NE': 'high_wind_ne',\n",
    "    'High Wind NW': 'high_wind_nw',\n",
    "    'High Wind SE': 'high_wind_se',\n",
    "    'High Wind SW': 'high_wind_sw',\n",
    "})\n",
    "atlantic_measurement_df.head()"
   ],
   "metadata": {
    "collapsed": false,
    "pycharm": {
     "name": "#%% Create Measurement Dataframe\n"
    }
   }
  },
  {
   "cell_type": "code",
   "execution_count": 12,
   "outputs": [
    {
     "data": {
      "text/plain": "  cyclone_id measure_date        measure_time event status latitude longitude  \\\n0   AL011851   1851-06-25 1900-01-01 00:00:00           HU    28.0N     94.8W   \n1   AL011851   1851-06-25 1900-01-01 06:00:00           HU    28.0N     95.4W   \n2   AL011851   1851-06-25 1900-01-01 12:00:00           HU    28.0N     96.0W   \n3   AL011851   1851-06-25 1900-01-01 18:00:00           HU    28.1N     96.5W   \n4   AL011851   1851-06-25 1900-01-01 21:00:00     L     HU    28.2N     96.8W   \n\n   max_wind  min_pressure  low_wind_ne  low_wind_se  low_wind_sw  low_wind_nw  \\\n0        80          -999          999         -999         -999          999   \n1        80          -999          999         -999         -999          999   \n2        80          -999          999         -999         -999          999   \n3        80          -999          999         -999         -999          999   \n4        80          -999          999         -999         -999          999   \n\n   mod_wind_ne  mod_wind_se  mod_wind_sw  mod_wind_nw  high_wind_ne  \\\n0          999         -999         -999          999           999   \n1          999         -999         -999          999           999   \n2          999         -999         -999          999           999   \n3          999         -999         -999          999           999   \n4          999         -999         -999          999           999   \n\n   high_wind_se  high_wind_sw  high_wind_nw  \n0          -999          -999           999  \n1          -999          -999           999  \n2          -999          -999           999  \n3          -999          -999           999  \n4          -999          -999           999  ",
      "text/html": "<div>\n<style scoped>\n    .dataframe tbody tr th:only-of-type {\n        vertical-align: middle;\n    }\n\n    .dataframe tbody tr th {\n        vertical-align: top;\n    }\n\n    .dataframe thead th {\n        text-align: right;\n    }\n</style>\n<table border=\"1\" class=\"dataframe\">\n  <thead>\n    <tr style=\"text-align: right;\">\n      <th></th>\n      <th>cyclone_id</th>\n      <th>measure_date</th>\n      <th>measure_time</th>\n      <th>event</th>\n      <th>status</th>\n      <th>latitude</th>\n      <th>longitude</th>\n      <th>max_wind</th>\n      <th>min_pressure</th>\n      <th>low_wind_ne</th>\n      <th>low_wind_se</th>\n      <th>low_wind_sw</th>\n      <th>low_wind_nw</th>\n      <th>mod_wind_ne</th>\n      <th>mod_wind_se</th>\n      <th>mod_wind_sw</th>\n      <th>mod_wind_nw</th>\n      <th>high_wind_ne</th>\n      <th>high_wind_se</th>\n      <th>high_wind_sw</th>\n      <th>high_wind_nw</th>\n    </tr>\n  </thead>\n  <tbody>\n    <tr>\n      <th>0</th>\n      <td>AL011851</td>\n      <td>1851-06-25</td>\n      <td>1900-01-01 00:00:00</td>\n      <td></td>\n      <td>HU</td>\n      <td>28.0N</td>\n      <td>94.8W</td>\n      <td>80</td>\n      <td>-999</td>\n      <td>999</td>\n      <td>-999</td>\n      <td>-999</td>\n      <td>999</td>\n      <td>999</td>\n      <td>-999</td>\n      <td>-999</td>\n      <td>999</td>\n      <td>999</td>\n      <td>-999</td>\n      <td>-999</td>\n      <td>999</td>\n    </tr>\n    <tr>\n      <th>1</th>\n      <td>AL011851</td>\n      <td>1851-06-25</td>\n      <td>1900-01-01 06:00:00</td>\n      <td></td>\n      <td>HU</td>\n      <td>28.0N</td>\n      <td>95.4W</td>\n      <td>80</td>\n      <td>-999</td>\n      <td>999</td>\n      <td>-999</td>\n      <td>-999</td>\n      <td>999</td>\n      <td>999</td>\n      <td>-999</td>\n      <td>-999</td>\n      <td>999</td>\n      <td>999</td>\n      <td>-999</td>\n      <td>-999</td>\n      <td>999</td>\n    </tr>\n    <tr>\n      <th>2</th>\n      <td>AL011851</td>\n      <td>1851-06-25</td>\n      <td>1900-01-01 12:00:00</td>\n      <td></td>\n      <td>HU</td>\n      <td>28.0N</td>\n      <td>96.0W</td>\n      <td>80</td>\n      <td>-999</td>\n      <td>999</td>\n      <td>-999</td>\n      <td>-999</td>\n      <td>999</td>\n      <td>999</td>\n      <td>-999</td>\n      <td>-999</td>\n      <td>999</td>\n      <td>999</td>\n      <td>-999</td>\n      <td>-999</td>\n      <td>999</td>\n    </tr>\n    <tr>\n      <th>3</th>\n      <td>AL011851</td>\n      <td>1851-06-25</td>\n      <td>1900-01-01 18:00:00</td>\n      <td></td>\n      <td>HU</td>\n      <td>28.1N</td>\n      <td>96.5W</td>\n      <td>80</td>\n      <td>-999</td>\n      <td>999</td>\n      <td>-999</td>\n      <td>-999</td>\n      <td>999</td>\n      <td>999</td>\n      <td>-999</td>\n      <td>-999</td>\n      <td>999</td>\n      <td>999</td>\n      <td>-999</td>\n      <td>-999</td>\n      <td>999</td>\n    </tr>\n    <tr>\n      <th>4</th>\n      <td>AL011851</td>\n      <td>1851-06-25</td>\n      <td>1900-01-01 21:00:00</td>\n      <td>L</td>\n      <td>HU</td>\n      <td>28.2N</td>\n      <td>96.8W</td>\n      <td>80</td>\n      <td>-999</td>\n      <td>999</td>\n      <td>-999</td>\n      <td>-999</td>\n      <td>999</td>\n      <td>999</td>\n      <td>-999</td>\n      <td>-999</td>\n      <td>999</td>\n      <td>999</td>\n      <td>-999</td>\n      <td>-999</td>\n      <td>999</td>\n    </tr>\n  </tbody>\n</table>\n</div>"
     },
     "execution_count": 12,
     "metadata": {},
     "output_type": "execute_result"
    }
   ],
   "source": [
    "atlantic_measurement_df['measure_date'] = pd.to_datetime(atlantic_measurement_df['measure_date'], format='%Y%m%d')\n",
    "atlantic_measurement_df['measure_time'] = atlantic_measurement_df['measure_time'].replace(0, '0000')\n",
    "atlantic_measurement_df['measure_time'] = pd.to_datetime(atlantic_measurement_df['measure_time'], format='%H%M')\n",
    "atlantic_measurement_df.head()"
   ],
   "metadata": {
    "collapsed": false,
    "pycharm": {
     "name": "#%% fix date and time columns\n"
    }
   }
  },
  {
   "cell_type": "code",
   "execution_count": 13,
   "outputs": [],
   "source": [
    "atlantic_measurement_df['status'] = atlantic_measurement_df['status'].str.strip()"
   ],
   "metadata": {
    "collapsed": false,
    "pycharm": {
     "name": "#%% fix status column\n"
    }
   }
  },
  {
   "cell_type": "code",
   "execution_count": 14,
   "outputs": [],
   "source": [
    "atlantic_measurement_df.to_sql('measurements', connector.engine, index=False, if_exists='replace')"
   ],
   "metadata": {
    "collapsed": false,
    "pycharm": {
     "name": "#%% Upload atlantic data to database\n"
    }
   }
  },
  {
   "cell_type": "code",
   "execution_count": 15,
   "outputs": [
    {
     "data": {
      "text/plain": "  cyclone_id  measure_date  measure_time event status latitude longitude  \\\n0   EP011949      19490611             0           TS    20.2N    106.3W   \n1   EP011949      19490611           600           TS    20.2N    106.4W   \n2   EP011949      19490611          1200           TS    20.2N    106.7W   \n3   EP011949      19490611          1800           TS    20.3N    107.7W   \n4   EP011949      19490612             0           TS    20.4N    108.6W   \n\n   max_wind  min_pressure  low_wind_ne  low_wind_se  low_wind_sw  low_wind_nw  \\\n0        45          -999          999         -999         -999          999   \n1        45          -999          999         -999         -999          999   \n2        45          -999          999         -999         -999          999   \n3        45          -999          999         -999         -999          999   \n4        45          -999          999         -999         -999          999   \n\n   mod_wind_ne  mod_wind_se  mod_wind_sw  mod_wind_nw  high_wind_ne  \\\n0          999         -999         -999          999           999   \n1          999         -999         -999          999           999   \n2          999         -999         -999          999           999   \n3          999         -999         -999          999           999   \n4          999         -999         -999          999           999   \n\n   high_wind_se  high_wind_sw  high_wind_nw  \n0          -999          -999           999  \n1          -999          -999           999  \n2          -999          -999           999  \n3          -999          -999           999  \n4          -999          -999           999  ",
      "text/html": "<div>\n<style scoped>\n    .dataframe tbody tr th:only-of-type {\n        vertical-align: middle;\n    }\n\n    .dataframe tbody tr th {\n        vertical-align: top;\n    }\n\n    .dataframe thead th {\n        text-align: right;\n    }\n</style>\n<table border=\"1\" class=\"dataframe\">\n  <thead>\n    <tr style=\"text-align: right;\">\n      <th></th>\n      <th>cyclone_id</th>\n      <th>measure_date</th>\n      <th>measure_time</th>\n      <th>event</th>\n      <th>status</th>\n      <th>latitude</th>\n      <th>longitude</th>\n      <th>max_wind</th>\n      <th>min_pressure</th>\n      <th>low_wind_ne</th>\n      <th>low_wind_se</th>\n      <th>low_wind_sw</th>\n      <th>low_wind_nw</th>\n      <th>mod_wind_ne</th>\n      <th>mod_wind_se</th>\n      <th>mod_wind_sw</th>\n      <th>mod_wind_nw</th>\n      <th>high_wind_ne</th>\n      <th>high_wind_se</th>\n      <th>high_wind_sw</th>\n      <th>high_wind_nw</th>\n    </tr>\n  </thead>\n  <tbody>\n    <tr>\n      <th>0</th>\n      <td>EP011949</td>\n      <td>19490611</td>\n      <td>0</td>\n      <td></td>\n      <td>TS</td>\n      <td>20.2N</td>\n      <td>106.3W</td>\n      <td>45</td>\n      <td>-999</td>\n      <td>999</td>\n      <td>-999</td>\n      <td>-999</td>\n      <td>999</td>\n      <td>999</td>\n      <td>-999</td>\n      <td>-999</td>\n      <td>999</td>\n      <td>999</td>\n      <td>-999</td>\n      <td>-999</td>\n      <td>999</td>\n    </tr>\n    <tr>\n      <th>1</th>\n      <td>EP011949</td>\n      <td>19490611</td>\n      <td>600</td>\n      <td></td>\n      <td>TS</td>\n      <td>20.2N</td>\n      <td>106.4W</td>\n      <td>45</td>\n      <td>-999</td>\n      <td>999</td>\n      <td>-999</td>\n      <td>-999</td>\n      <td>999</td>\n      <td>999</td>\n      <td>-999</td>\n      <td>-999</td>\n      <td>999</td>\n      <td>999</td>\n      <td>-999</td>\n      <td>-999</td>\n      <td>999</td>\n    </tr>\n    <tr>\n      <th>2</th>\n      <td>EP011949</td>\n      <td>19490611</td>\n      <td>1200</td>\n      <td></td>\n      <td>TS</td>\n      <td>20.2N</td>\n      <td>106.7W</td>\n      <td>45</td>\n      <td>-999</td>\n      <td>999</td>\n      <td>-999</td>\n      <td>-999</td>\n      <td>999</td>\n      <td>999</td>\n      <td>-999</td>\n      <td>-999</td>\n      <td>999</td>\n      <td>999</td>\n      <td>-999</td>\n      <td>-999</td>\n      <td>999</td>\n    </tr>\n    <tr>\n      <th>3</th>\n      <td>EP011949</td>\n      <td>19490611</td>\n      <td>1800</td>\n      <td></td>\n      <td>TS</td>\n      <td>20.3N</td>\n      <td>107.7W</td>\n      <td>45</td>\n      <td>-999</td>\n      <td>999</td>\n      <td>-999</td>\n      <td>-999</td>\n      <td>999</td>\n      <td>999</td>\n      <td>-999</td>\n      <td>-999</td>\n      <td>999</td>\n      <td>999</td>\n      <td>-999</td>\n      <td>-999</td>\n      <td>999</td>\n    </tr>\n    <tr>\n      <th>4</th>\n      <td>EP011949</td>\n      <td>19490612</td>\n      <td>0</td>\n      <td></td>\n      <td>TS</td>\n      <td>20.4N</td>\n      <td>108.6W</td>\n      <td>45</td>\n      <td>-999</td>\n      <td>999</td>\n      <td>-999</td>\n      <td>-999</td>\n      <td>999</td>\n      <td>999</td>\n      <td>-999</td>\n      <td>-999</td>\n      <td>999</td>\n      <td>999</td>\n      <td>-999</td>\n      <td>-999</td>\n      <td>999</td>\n    </tr>\n  </tbody>\n</table>\n</div>"
     },
     "execution_count": 15,
     "metadata": {},
     "output_type": "execute_result"
    }
   ],
   "source": [
    "pacific_measurement_df = pacific_df.drop(columns='Name')\n",
    "\n",
    "pacific_measurement_df = pacific_measurement_df.rename(columns={\n",
    "    'ID': 'cyclone_id',\n",
    "    'Date': 'measure_date',\n",
    "    'Time': 'measure_time',\n",
    "    'Event': 'event',\n",
    "    'Status': 'status',\n",
    "    'Latitude': 'latitude',\n",
    "    'Longitude': 'longitude',\n",
    "    'Maximum Wind': 'max_wind',\n",
    "    'Minimum Pressure': 'min_pressure',\n",
    "    'Low Wind NE': 'low_wind_ne',\n",
    "    'Low Wind NW': 'low_wind_nw',\n",
    "    'Low Wind SE': 'low_wind_se',\n",
    "    'Low Wind SW': 'low_wind_sw',\n",
    "    'Moderate Wind NE': 'mod_wind_ne',\n",
    "    'Moderate Wind NW': 'mod_wind_nw',\n",
    "    'Moderate Wind SE': 'mod_wind_se',\n",
    "    'Moderate Wind SW': 'mod_wind_sw',\n",
    "    'High Wind NE': 'high_wind_ne',\n",
    "    'High Wind NW': 'high_wind_nw',\n",
    "    'High Wind SE': 'high_wind_se',\n",
    "    'High Wind SW': 'high_wind_sw',\n",
    "})\n",
    "pacific_measurement_df.head()"
   ],
   "metadata": {
    "collapsed": false,
    "pycharm": {
     "name": "#%% Create Measurement Dataframe\n"
    }
   }
  },
  {
   "cell_type": "code",
   "execution_count": 16,
   "outputs": [
    {
     "data": {
      "text/plain": "  cyclone_id measure_date        measure_time event status latitude longitude  \\\n0   EP011949   1949-06-11 1900-01-01 00:00:00           TS    20.2N    106.3W   \n1   EP011949   1949-06-11 1900-01-01 06:00:00           TS    20.2N    106.4W   \n2   EP011949   1949-06-11 1900-01-01 12:00:00           TS    20.2N    106.7W   \n3   EP011949   1949-06-11 1900-01-01 18:00:00           TS    20.3N    107.7W   \n4   EP011949   1949-06-12 1900-01-01 00:00:00           TS    20.4N    108.6W   \n\n   max_wind  min_pressure  low_wind_ne  low_wind_se  low_wind_sw  low_wind_nw  \\\n0        45          -999          999         -999         -999          999   \n1        45          -999          999         -999         -999          999   \n2        45          -999          999         -999         -999          999   \n3        45          -999          999         -999         -999          999   \n4        45          -999          999         -999         -999          999   \n\n   mod_wind_ne  mod_wind_se  mod_wind_sw  mod_wind_nw  high_wind_ne  \\\n0          999         -999         -999          999           999   \n1          999         -999         -999          999           999   \n2          999         -999         -999          999           999   \n3          999         -999         -999          999           999   \n4          999         -999         -999          999           999   \n\n   high_wind_se  high_wind_sw  high_wind_nw  \n0          -999          -999           999  \n1          -999          -999           999  \n2          -999          -999           999  \n3          -999          -999           999  \n4          -999          -999           999  ",
      "text/html": "<div>\n<style scoped>\n    .dataframe tbody tr th:only-of-type {\n        vertical-align: middle;\n    }\n\n    .dataframe tbody tr th {\n        vertical-align: top;\n    }\n\n    .dataframe thead th {\n        text-align: right;\n    }\n</style>\n<table border=\"1\" class=\"dataframe\">\n  <thead>\n    <tr style=\"text-align: right;\">\n      <th></th>\n      <th>cyclone_id</th>\n      <th>measure_date</th>\n      <th>measure_time</th>\n      <th>event</th>\n      <th>status</th>\n      <th>latitude</th>\n      <th>longitude</th>\n      <th>max_wind</th>\n      <th>min_pressure</th>\n      <th>low_wind_ne</th>\n      <th>low_wind_se</th>\n      <th>low_wind_sw</th>\n      <th>low_wind_nw</th>\n      <th>mod_wind_ne</th>\n      <th>mod_wind_se</th>\n      <th>mod_wind_sw</th>\n      <th>mod_wind_nw</th>\n      <th>high_wind_ne</th>\n      <th>high_wind_se</th>\n      <th>high_wind_sw</th>\n      <th>high_wind_nw</th>\n    </tr>\n  </thead>\n  <tbody>\n    <tr>\n      <th>0</th>\n      <td>EP011949</td>\n      <td>1949-06-11</td>\n      <td>1900-01-01 00:00:00</td>\n      <td></td>\n      <td>TS</td>\n      <td>20.2N</td>\n      <td>106.3W</td>\n      <td>45</td>\n      <td>-999</td>\n      <td>999</td>\n      <td>-999</td>\n      <td>-999</td>\n      <td>999</td>\n      <td>999</td>\n      <td>-999</td>\n      <td>-999</td>\n      <td>999</td>\n      <td>999</td>\n      <td>-999</td>\n      <td>-999</td>\n      <td>999</td>\n    </tr>\n    <tr>\n      <th>1</th>\n      <td>EP011949</td>\n      <td>1949-06-11</td>\n      <td>1900-01-01 06:00:00</td>\n      <td></td>\n      <td>TS</td>\n      <td>20.2N</td>\n      <td>106.4W</td>\n      <td>45</td>\n      <td>-999</td>\n      <td>999</td>\n      <td>-999</td>\n      <td>-999</td>\n      <td>999</td>\n      <td>999</td>\n      <td>-999</td>\n      <td>-999</td>\n      <td>999</td>\n      <td>999</td>\n      <td>-999</td>\n      <td>-999</td>\n      <td>999</td>\n    </tr>\n    <tr>\n      <th>2</th>\n      <td>EP011949</td>\n      <td>1949-06-11</td>\n      <td>1900-01-01 12:00:00</td>\n      <td></td>\n      <td>TS</td>\n      <td>20.2N</td>\n      <td>106.7W</td>\n      <td>45</td>\n      <td>-999</td>\n      <td>999</td>\n      <td>-999</td>\n      <td>-999</td>\n      <td>999</td>\n      <td>999</td>\n      <td>-999</td>\n      <td>-999</td>\n      <td>999</td>\n      <td>999</td>\n      <td>-999</td>\n      <td>-999</td>\n      <td>999</td>\n    </tr>\n    <tr>\n      <th>3</th>\n      <td>EP011949</td>\n      <td>1949-06-11</td>\n      <td>1900-01-01 18:00:00</td>\n      <td></td>\n      <td>TS</td>\n      <td>20.3N</td>\n      <td>107.7W</td>\n      <td>45</td>\n      <td>-999</td>\n      <td>999</td>\n      <td>-999</td>\n      <td>-999</td>\n      <td>999</td>\n      <td>999</td>\n      <td>-999</td>\n      <td>-999</td>\n      <td>999</td>\n      <td>999</td>\n      <td>-999</td>\n      <td>-999</td>\n      <td>999</td>\n    </tr>\n    <tr>\n      <th>4</th>\n      <td>EP011949</td>\n      <td>1949-06-12</td>\n      <td>1900-01-01 00:00:00</td>\n      <td></td>\n      <td>TS</td>\n      <td>20.4N</td>\n      <td>108.6W</td>\n      <td>45</td>\n      <td>-999</td>\n      <td>999</td>\n      <td>-999</td>\n      <td>-999</td>\n      <td>999</td>\n      <td>999</td>\n      <td>-999</td>\n      <td>-999</td>\n      <td>999</td>\n      <td>999</td>\n      <td>-999</td>\n      <td>-999</td>\n      <td>999</td>\n    </tr>\n  </tbody>\n</table>\n</div>"
     },
     "execution_count": 16,
     "metadata": {},
     "output_type": "execute_result"
    }
   ],
   "source": [
    "pacific_measurement_df['measure_date'] = pd.to_datetime(pacific_measurement_df['measure_date'], format='%Y%m%d')\n",
    "pacific_measurement_df['measure_time'] = pacific_measurement_df['measure_time'].replace(0, '0000')\n",
    "pacific_measurement_df['measure_time'] = pd.to_datetime(pacific_measurement_df['measure_time'], format='%H%M')\n",
    "pacific_measurement_df.head()"
   ],
   "metadata": {
    "collapsed": false,
    "pycharm": {
     "name": "#%% fix date and time columns\n"
    }
   }
  },
  {
   "cell_type": "code",
   "execution_count": 17,
   "outputs": [],
   "source": [
    "pacific_measurement_df['status'] = pacific_measurement_df['status'].str.strip()"
   ],
   "metadata": {
    "collapsed": false,
    "pycharm": {
     "name": "#%% fix status column\n"
    }
   }
  },
  {
   "cell_type": "code",
   "execution_count": 18,
   "outputs": [],
   "source": [
    "pacific_measurement_df.to_sql('measurements', connector.engine, index=False, if_exists='append')"
   ],
   "metadata": {
    "collapsed": false,
    "pycharm": {
     "name": "#%% Upload atlantic data to database\n"
    }
   }
  },
  {
   "cell_type": "markdown",
   "source": [
    "## Min and Max Wind Speed"
   ],
   "metadata": {
    "collapsed": false
   }
  },
  {
   "cell_type": "code",
   "execution_count": 34,
   "outputs": [
    {
     "data": {
      "text/plain": "     max_wind                measure_date cyclone_id cyclone_name status  \\\n333       165  1980-08-07 00:00:00.000000   AL041980        ALLEN     HU   \n\n       region  \n333  Atlantic  ",
      "text/html": "<div>\n<style scoped>\n    .dataframe tbody tr th:only-of-type {\n        vertical-align: middle;\n    }\n\n    .dataframe tbody tr th {\n        vertical-align: top;\n    }\n\n    .dataframe thead th {\n        text-align: right;\n    }\n</style>\n<table border=\"1\" class=\"dataframe\">\n  <thead>\n    <tr style=\"text-align: right;\">\n      <th></th>\n      <th>max_wind</th>\n      <th>measure_date</th>\n      <th>cyclone_id</th>\n      <th>cyclone_name</th>\n      <th>status</th>\n      <th>region</th>\n    </tr>\n  </thead>\n  <tbody>\n    <tr>\n      <th>333</th>\n      <td>165</td>\n      <td>1980-08-07 00:00:00.000000</td>\n      <td>AL041980</td>\n      <td>ALLEN</td>\n      <td>HU</td>\n      <td>Atlantic</td>\n    </tr>\n  </tbody>\n</table>\n</div>"
     },
     "metadata": {},
     "output_type": "display_data"
    },
    {
     "data": {
      "text/plain": "     max_wind                measure_date cyclone_id cyclone_name status  \\\n27         65  1893-06-17 00:00:00.000000   AL011893      UNNAMED     HU   \n35         65  1913-06-27 00:00:00.000000   AL011913      UNNAMED     HU   \n36         65  1915-08-01 00:00:00.000000   AL011915      UNNAMED     HU   \n57         65  1968-06-03 00:00:00.000000   AL011968         ABBY     HU   \n60         65  1995-06-04 00:00:00.000000   AL011995      ALLISON     HU   \n93         65  1889-06-15 00:00:00.000000   AL021889      UNNAMED     HU   \n94         65  1891-08-19 00:00:00.000000   AL021891      UNNAMED     HU   \n95         65  1892-08-19 00:00:00.000000   AL021892      UNNAMED     HU   \n107        65  1908-05-28 00:00:00.000000   AL021908      UNNAMED     HU   \n127        65  1939-08-11 00:00:00.000000   AL021939      UNNAMED     HU   \n144        65  1966-07-02 00:00:00.000000   AL021966        BECKY     HU   \n145        65  1968-06-23 00:00:00.000000   AL021968       BRENDA     HU   \n147        65  1985-07-24 00:00:00.000000   AL021985          BOB     HU   \n149        65  1987-08-22 00:00:00.000000   AL021987       ARLENE     HU   \n203        65  1918-08-24 00:00:00.000000   AL031918      UNNAMED     HU   \n238        65  1997-07-12 00:00:00.000000   AL031997         BILL     HU   \n242        65  2005-07-06 00:00:00.000000   AL032005        CINDY     HU   \n321        65  1959-07-08 00:00:00.000000   AL041959        CINDY     HU   \n332        65  1979-07-11 00:00:00.000000   AL041979          BOB     HU   \n336        65  1988-09-02 00:00:00.000000   AL041988        DEBBY     HU   \n385        65  1913-10-08 00:00:00.000000   AL051913      UNNAMED     HU   \n408        65  1963-09-21 00:00:00.000000   AL051963        DEBRA     HU   \n412        65  1983-09-11 00:00:00.000000   AL051983      CHANTAL     HU   \n424        65  2003-07-18 00:00:00.000000   AL052003        DANNY     HU   \n459        65  1913-10-29 00:00:00.000000   AL061913      UNNAMED     HU   \n477        65  1953-09-10 00:00:00.000000   AL061953        DOLLY     HU   \n487        65  1977-09-05 00:00:00.000000   AL061977         BABE     HU   \n496        65  2006-08-27 00:00:00.000000   AL062006      ERNESTO     HU   \n533        65  1955-09-05 00:00:00.000000   AL071955       GLADYS     HU   \n536        65  1959-09-11 00:00:00.000000   AL071959        FLORA     HU   \n543        65  1977-09-08 00:00:00.000000   AL071977        CLARA     HU   \n547        65  1993-09-09 00:00:00.000000   AL071993        FLOYD     HU   \n553        65  2004-08-29 00:00:00.000000   AL072004       GASTON     HU   \n576        65  1931-09-28 00:00:00.000000   AL081931      UNNAMED     HU   \n578        65  1936-08-16 00:00:00.000000   AL081936      UNNAMED     HU   \n600        65  2003-08-16 00:00:00.000000   AL082003        ERIKA     HU   \n642        65  1993-09-20 00:00:00.000000   AL091993       HARVEY     HU   \n670        65  1948-11-10 00:00:00.000000   AL101948      UNNAMED     HU   \n684        65  1980-09-08 00:00:00.000000   AL101980         EARL     HU   \n712        65  1951-10-15 00:00:00.000000   AL111951          JIG     HU   \n745        65  1991-11-01 00:00:00.000000   AL121991      UNNAMED     HU   \n748        65  1998-10-09 00:00:00.000000   AL121998         LISA     HU   \n752        65  2007-09-26 00:00:00.000000   AL122007        KAREN     HU   \n777        65  1987-10-12 00:00:00.000000   AL131987        FLOYD     HU   \n780        65  1996-11-20 00:00:00.000000   AL131996        MARCO     HU   \n787        65  2004-10-02 00:00:00.000000   AL132004         LISA     HU   \n805        65  1984-09-25 00:00:00.000000   AL141984     HORTENSE     HU   \n807        65  1990-10-11 00:00:00.000000   AL141990         LILI     HU   \n817        65  1933-09-26 00:00:00.000000   AL151933      UNNAMED     HU   \n828        65  2011-09-08 00:00:00.000000   AL152011         NATE     HU   \n836        65  1995-09-28 00:00:00.000000   AL161995         NOEL     HU   \n838        65  2001-11-05 00:00:00.000000   AL162001         NOEL     HU   \n846        65  1974-09-29 00:00:00.000000   AL171974     GERTRUDE     HU   \n868        65  1970-10-27 00:00:00.000000   AL191970      UNNAMED     HU   \n874        65  2010-10-30 00:00:00.000000   AL202010        SHARY     HU   \n875        65  1969-09-24 00:00:00.000000   AL211969      UNNAMED     HU   \n876        65  1976-10-24 00:00:00.000000   AL211976        HOLLY     HU   \n881        65  2005-10-09 00:00:00.000000   AL242005        VINCE     HU   \n887        65  1969-11-04 00:00:00.000000   AL281969      UNNAMED     HU   \n\n       region  \n27   Atlantic  \n35   Atlantic  \n36   Atlantic  \n57   Atlantic  \n60   Atlantic  \n93   Atlantic  \n94   Atlantic  \n95   Atlantic  \n107  Atlantic  \n127  Atlantic  \n144  Atlantic  \n145  Atlantic  \n147  Atlantic  \n149  Atlantic  \n203  Atlantic  \n238  Atlantic  \n242  Atlantic  \n321  Atlantic  \n332  Atlantic  \n336  Atlantic  \n385  Atlantic  \n408  Atlantic  \n412  Atlantic  \n424  Atlantic  \n459  Atlantic  \n477  Atlantic  \n487  Atlantic  \n496  Atlantic  \n533  Atlantic  \n536  Atlantic  \n543  Atlantic  \n547  Atlantic  \n553  Atlantic  \n576  Atlantic  \n578  Atlantic  \n600  Atlantic  \n642  Atlantic  \n670  Atlantic  \n684  Atlantic  \n712  Atlantic  \n745  Atlantic  \n748  Atlantic  \n752  Atlantic  \n777  Atlantic  \n780  Atlantic  \n787  Atlantic  \n805  Atlantic  \n807  Atlantic  \n817  Atlantic  \n828  Atlantic  \n836  Atlantic  \n838  Atlantic  \n846  Atlantic  \n868  Atlantic  \n874  Atlantic  \n875  Atlantic  \n876  Atlantic  \n881  Atlantic  \n887  Atlantic  ",
      "text/html": "<div>\n<style scoped>\n    .dataframe tbody tr th:only-of-type {\n        vertical-align: middle;\n    }\n\n    .dataframe tbody tr th {\n        vertical-align: top;\n    }\n\n    .dataframe thead th {\n        text-align: right;\n    }\n</style>\n<table border=\"1\" class=\"dataframe\">\n  <thead>\n    <tr style=\"text-align: right;\">\n      <th></th>\n      <th>max_wind</th>\n      <th>measure_date</th>\n      <th>cyclone_id</th>\n      <th>cyclone_name</th>\n      <th>status</th>\n      <th>region</th>\n    </tr>\n  </thead>\n  <tbody>\n    <tr>\n      <th>27</th>\n      <td>65</td>\n      <td>1893-06-17 00:00:00.000000</td>\n      <td>AL011893</td>\n      <td>UNNAMED</td>\n      <td>HU</td>\n      <td>Atlantic</td>\n    </tr>\n    <tr>\n      <th>35</th>\n      <td>65</td>\n      <td>1913-06-27 00:00:00.000000</td>\n      <td>AL011913</td>\n      <td>UNNAMED</td>\n      <td>HU</td>\n      <td>Atlantic</td>\n    </tr>\n    <tr>\n      <th>36</th>\n      <td>65</td>\n      <td>1915-08-01 00:00:00.000000</td>\n      <td>AL011915</td>\n      <td>UNNAMED</td>\n      <td>HU</td>\n      <td>Atlantic</td>\n    </tr>\n    <tr>\n      <th>57</th>\n      <td>65</td>\n      <td>1968-06-03 00:00:00.000000</td>\n      <td>AL011968</td>\n      <td>ABBY</td>\n      <td>HU</td>\n      <td>Atlantic</td>\n    </tr>\n    <tr>\n      <th>60</th>\n      <td>65</td>\n      <td>1995-06-04 00:00:00.000000</td>\n      <td>AL011995</td>\n      <td>ALLISON</td>\n      <td>HU</td>\n      <td>Atlantic</td>\n    </tr>\n    <tr>\n      <th>93</th>\n      <td>65</td>\n      <td>1889-06-15 00:00:00.000000</td>\n      <td>AL021889</td>\n      <td>UNNAMED</td>\n      <td>HU</td>\n      <td>Atlantic</td>\n    </tr>\n    <tr>\n      <th>94</th>\n      <td>65</td>\n      <td>1891-08-19 00:00:00.000000</td>\n      <td>AL021891</td>\n      <td>UNNAMED</td>\n      <td>HU</td>\n      <td>Atlantic</td>\n    </tr>\n    <tr>\n      <th>95</th>\n      <td>65</td>\n      <td>1892-08-19 00:00:00.000000</td>\n      <td>AL021892</td>\n      <td>UNNAMED</td>\n      <td>HU</td>\n      <td>Atlantic</td>\n    </tr>\n    <tr>\n      <th>107</th>\n      <td>65</td>\n      <td>1908-05-28 00:00:00.000000</td>\n      <td>AL021908</td>\n      <td>UNNAMED</td>\n      <td>HU</td>\n      <td>Atlantic</td>\n    </tr>\n    <tr>\n      <th>127</th>\n      <td>65</td>\n      <td>1939-08-11 00:00:00.000000</td>\n      <td>AL021939</td>\n      <td>UNNAMED</td>\n      <td>HU</td>\n      <td>Atlantic</td>\n    </tr>\n    <tr>\n      <th>144</th>\n      <td>65</td>\n      <td>1966-07-02 00:00:00.000000</td>\n      <td>AL021966</td>\n      <td>BECKY</td>\n      <td>HU</td>\n      <td>Atlantic</td>\n    </tr>\n    <tr>\n      <th>145</th>\n      <td>65</td>\n      <td>1968-06-23 00:00:00.000000</td>\n      <td>AL021968</td>\n      <td>BRENDA</td>\n      <td>HU</td>\n      <td>Atlantic</td>\n    </tr>\n    <tr>\n      <th>147</th>\n      <td>65</td>\n      <td>1985-07-24 00:00:00.000000</td>\n      <td>AL021985</td>\n      <td>BOB</td>\n      <td>HU</td>\n      <td>Atlantic</td>\n    </tr>\n    <tr>\n      <th>149</th>\n      <td>65</td>\n      <td>1987-08-22 00:00:00.000000</td>\n      <td>AL021987</td>\n      <td>ARLENE</td>\n      <td>HU</td>\n      <td>Atlantic</td>\n    </tr>\n    <tr>\n      <th>203</th>\n      <td>65</td>\n      <td>1918-08-24 00:00:00.000000</td>\n      <td>AL031918</td>\n      <td>UNNAMED</td>\n      <td>HU</td>\n      <td>Atlantic</td>\n    </tr>\n    <tr>\n      <th>238</th>\n      <td>65</td>\n      <td>1997-07-12 00:00:00.000000</td>\n      <td>AL031997</td>\n      <td>BILL</td>\n      <td>HU</td>\n      <td>Atlantic</td>\n    </tr>\n    <tr>\n      <th>242</th>\n      <td>65</td>\n      <td>2005-07-06 00:00:00.000000</td>\n      <td>AL032005</td>\n      <td>CINDY</td>\n      <td>HU</td>\n      <td>Atlantic</td>\n    </tr>\n    <tr>\n      <th>321</th>\n      <td>65</td>\n      <td>1959-07-08 00:00:00.000000</td>\n      <td>AL041959</td>\n      <td>CINDY</td>\n      <td>HU</td>\n      <td>Atlantic</td>\n    </tr>\n    <tr>\n      <th>332</th>\n      <td>65</td>\n      <td>1979-07-11 00:00:00.000000</td>\n      <td>AL041979</td>\n      <td>BOB</td>\n      <td>HU</td>\n      <td>Atlantic</td>\n    </tr>\n    <tr>\n      <th>336</th>\n      <td>65</td>\n      <td>1988-09-02 00:00:00.000000</td>\n      <td>AL041988</td>\n      <td>DEBBY</td>\n      <td>HU</td>\n      <td>Atlantic</td>\n    </tr>\n    <tr>\n      <th>385</th>\n      <td>65</td>\n      <td>1913-10-08 00:00:00.000000</td>\n      <td>AL051913</td>\n      <td>UNNAMED</td>\n      <td>HU</td>\n      <td>Atlantic</td>\n    </tr>\n    <tr>\n      <th>408</th>\n      <td>65</td>\n      <td>1963-09-21 00:00:00.000000</td>\n      <td>AL051963</td>\n      <td>DEBRA</td>\n      <td>HU</td>\n      <td>Atlantic</td>\n    </tr>\n    <tr>\n      <th>412</th>\n      <td>65</td>\n      <td>1983-09-11 00:00:00.000000</td>\n      <td>AL051983</td>\n      <td>CHANTAL</td>\n      <td>HU</td>\n      <td>Atlantic</td>\n    </tr>\n    <tr>\n      <th>424</th>\n      <td>65</td>\n      <td>2003-07-18 00:00:00.000000</td>\n      <td>AL052003</td>\n      <td>DANNY</td>\n      <td>HU</td>\n      <td>Atlantic</td>\n    </tr>\n    <tr>\n      <th>459</th>\n      <td>65</td>\n      <td>1913-10-29 00:00:00.000000</td>\n      <td>AL061913</td>\n      <td>UNNAMED</td>\n      <td>HU</td>\n      <td>Atlantic</td>\n    </tr>\n    <tr>\n      <th>477</th>\n      <td>65</td>\n      <td>1953-09-10 00:00:00.000000</td>\n      <td>AL061953</td>\n      <td>DOLLY</td>\n      <td>HU</td>\n      <td>Atlantic</td>\n    </tr>\n    <tr>\n      <th>487</th>\n      <td>65</td>\n      <td>1977-09-05 00:00:00.000000</td>\n      <td>AL061977</td>\n      <td>BABE</td>\n      <td>HU</td>\n      <td>Atlantic</td>\n    </tr>\n    <tr>\n      <th>496</th>\n      <td>65</td>\n      <td>2006-08-27 00:00:00.000000</td>\n      <td>AL062006</td>\n      <td>ERNESTO</td>\n      <td>HU</td>\n      <td>Atlantic</td>\n    </tr>\n    <tr>\n      <th>533</th>\n      <td>65</td>\n      <td>1955-09-05 00:00:00.000000</td>\n      <td>AL071955</td>\n      <td>GLADYS</td>\n      <td>HU</td>\n      <td>Atlantic</td>\n    </tr>\n    <tr>\n      <th>536</th>\n      <td>65</td>\n      <td>1959-09-11 00:00:00.000000</td>\n      <td>AL071959</td>\n      <td>FLORA</td>\n      <td>HU</td>\n      <td>Atlantic</td>\n    </tr>\n    <tr>\n      <th>543</th>\n      <td>65</td>\n      <td>1977-09-08 00:00:00.000000</td>\n      <td>AL071977</td>\n      <td>CLARA</td>\n      <td>HU</td>\n      <td>Atlantic</td>\n    </tr>\n    <tr>\n      <th>547</th>\n      <td>65</td>\n      <td>1993-09-09 00:00:00.000000</td>\n      <td>AL071993</td>\n      <td>FLOYD</td>\n      <td>HU</td>\n      <td>Atlantic</td>\n    </tr>\n    <tr>\n      <th>553</th>\n      <td>65</td>\n      <td>2004-08-29 00:00:00.000000</td>\n      <td>AL072004</td>\n      <td>GASTON</td>\n      <td>HU</td>\n      <td>Atlantic</td>\n    </tr>\n    <tr>\n      <th>576</th>\n      <td>65</td>\n      <td>1931-09-28 00:00:00.000000</td>\n      <td>AL081931</td>\n      <td>UNNAMED</td>\n      <td>HU</td>\n      <td>Atlantic</td>\n    </tr>\n    <tr>\n      <th>578</th>\n      <td>65</td>\n      <td>1936-08-16 00:00:00.000000</td>\n      <td>AL081936</td>\n      <td>UNNAMED</td>\n      <td>HU</td>\n      <td>Atlantic</td>\n    </tr>\n    <tr>\n      <th>600</th>\n      <td>65</td>\n      <td>2003-08-16 00:00:00.000000</td>\n      <td>AL082003</td>\n      <td>ERIKA</td>\n      <td>HU</td>\n      <td>Atlantic</td>\n    </tr>\n    <tr>\n      <th>642</th>\n      <td>65</td>\n      <td>1993-09-20 00:00:00.000000</td>\n      <td>AL091993</td>\n      <td>HARVEY</td>\n      <td>HU</td>\n      <td>Atlantic</td>\n    </tr>\n    <tr>\n      <th>670</th>\n      <td>65</td>\n      <td>1948-11-10 00:00:00.000000</td>\n      <td>AL101948</td>\n      <td>UNNAMED</td>\n      <td>HU</td>\n      <td>Atlantic</td>\n    </tr>\n    <tr>\n      <th>684</th>\n      <td>65</td>\n      <td>1980-09-08 00:00:00.000000</td>\n      <td>AL101980</td>\n      <td>EARL</td>\n      <td>HU</td>\n      <td>Atlantic</td>\n    </tr>\n    <tr>\n      <th>712</th>\n      <td>65</td>\n      <td>1951-10-15 00:00:00.000000</td>\n      <td>AL111951</td>\n      <td>JIG</td>\n      <td>HU</td>\n      <td>Atlantic</td>\n    </tr>\n    <tr>\n      <th>745</th>\n      <td>65</td>\n      <td>1991-11-01 00:00:00.000000</td>\n      <td>AL121991</td>\n      <td>UNNAMED</td>\n      <td>HU</td>\n      <td>Atlantic</td>\n    </tr>\n    <tr>\n      <th>748</th>\n      <td>65</td>\n      <td>1998-10-09 00:00:00.000000</td>\n      <td>AL121998</td>\n      <td>LISA</td>\n      <td>HU</td>\n      <td>Atlantic</td>\n    </tr>\n    <tr>\n      <th>752</th>\n      <td>65</td>\n      <td>2007-09-26 00:00:00.000000</td>\n      <td>AL122007</td>\n      <td>KAREN</td>\n      <td>HU</td>\n      <td>Atlantic</td>\n    </tr>\n    <tr>\n      <th>777</th>\n      <td>65</td>\n      <td>1987-10-12 00:00:00.000000</td>\n      <td>AL131987</td>\n      <td>FLOYD</td>\n      <td>HU</td>\n      <td>Atlantic</td>\n    </tr>\n    <tr>\n      <th>780</th>\n      <td>65</td>\n      <td>1996-11-20 00:00:00.000000</td>\n      <td>AL131996</td>\n      <td>MARCO</td>\n      <td>HU</td>\n      <td>Atlantic</td>\n    </tr>\n    <tr>\n      <th>787</th>\n      <td>65</td>\n      <td>2004-10-02 00:00:00.000000</td>\n      <td>AL132004</td>\n      <td>LISA</td>\n      <td>HU</td>\n      <td>Atlantic</td>\n    </tr>\n    <tr>\n      <th>805</th>\n      <td>65</td>\n      <td>1984-09-25 00:00:00.000000</td>\n      <td>AL141984</td>\n      <td>HORTENSE</td>\n      <td>HU</td>\n      <td>Atlantic</td>\n    </tr>\n    <tr>\n      <th>807</th>\n      <td>65</td>\n      <td>1990-10-11 00:00:00.000000</td>\n      <td>AL141990</td>\n      <td>LILI</td>\n      <td>HU</td>\n      <td>Atlantic</td>\n    </tr>\n    <tr>\n      <th>817</th>\n      <td>65</td>\n      <td>1933-09-26 00:00:00.000000</td>\n      <td>AL151933</td>\n      <td>UNNAMED</td>\n      <td>HU</td>\n      <td>Atlantic</td>\n    </tr>\n    <tr>\n      <th>828</th>\n      <td>65</td>\n      <td>2011-09-08 00:00:00.000000</td>\n      <td>AL152011</td>\n      <td>NATE</td>\n      <td>HU</td>\n      <td>Atlantic</td>\n    </tr>\n    <tr>\n      <th>836</th>\n      <td>65</td>\n      <td>1995-09-28 00:00:00.000000</td>\n      <td>AL161995</td>\n      <td>NOEL</td>\n      <td>HU</td>\n      <td>Atlantic</td>\n    </tr>\n    <tr>\n      <th>838</th>\n      <td>65</td>\n      <td>2001-11-05 00:00:00.000000</td>\n      <td>AL162001</td>\n      <td>NOEL</td>\n      <td>HU</td>\n      <td>Atlantic</td>\n    </tr>\n    <tr>\n      <th>846</th>\n      <td>65</td>\n      <td>1974-09-29 00:00:00.000000</td>\n      <td>AL171974</td>\n      <td>GERTRUDE</td>\n      <td>HU</td>\n      <td>Atlantic</td>\n    </tr>\n    <tr>\n      <th>868</th>\n      <td>65</td>\n      <td>1970-10-27 00:00:00.000000</td>\n      <td>AL191970</td>\n      <td>UNNAMED</td>\n      <td>HU</td>\n      <td>Atlantic</td>\n    </tr>\n    <tr>\n      <th>874</th>\n      <td>65</td>\n      <td>2010-10-30 00:00:00.000000</td>\n      <td>AL202010</td>\n      <td>SHARY</td>\n      <td>HU</td>\n      <td>Atlantic</td>\n    </tr>\n    <tr>\n      <th>875</th>\n      <td>65</td>\n      <td>1969-09-24 00:00:00.000000</td>\n      <td>AL211969</td>\n      <td>UNNAMED</td>\n      <td>HU</td>\n      <td>Atlantic</td>\n    </tr>\n    <tr>\n      <th>876</th>\n      <td>65</td>\n      <td>1976-10-24 00:00:00.000000</td>\n      <td>AL211976</td>\n      <td>HOLLY</td>\n      <td>HU</td>\n      <td>Atlantic</td>\n    </tr>\n    <tr>\n      <th>881</th>\n      <td>65</td>\n      <td>2005-10-09 00:00:00.000000</td>\n      <td>AL242005</td>\n      <td>VINCE</td>\n      <td>HU</td>\n      <td>Atlantic</td>\n    </tr>\n    <tr>\n      <th>887</th>\n      <td>65</td>\n      <td>1969-11-04 00:00:00.000000</td>\n      <td>AL281969</td>\n      <td>UNNAMED</td>\n      <td>HU</td>\n      <td>Atlantic</td>\n    </tr>\n  </tbody>\n</table>\n</div>"
     },
     "metadata": {},
     "output_type": "display_data"
    },
    {
     "data": {
      "text/plain": "      max_wind                measure_date cyclone_id cyclone_name status  \\\n1383       185  2015-10-23 00:00:00.000000   EP202015     PATRICIA     HU   \n\n       region  \n1383  Pacific  ",
      "text/html": "<div>\n<style scoped>\n    .dataframe tbody tr th:only-of-type {\n        vertical-align: middle;\n    }\n\n    .dataframe tbody tr th {\n        vertical-align: top;\n    }\n\n    .dataframe thead th {\n        text-align: right;\n    }\n</style>\n<table border=\"1\" class=\"dataframe\">\n  <thead>\n    <tr style=\"text-align: right;\">\n      <th></th>\n      <th>max_wind</th>\n      <th>measure_date</th>\n      <th>cyclone_id</th>\n      <th>cyclone_name</th>\n      <th>status</th>\n      <th>region</th>\n    </tr>\n  </thead>\n  <tbody>\n    <tr>\n      <th>1383</th>\n      <td>185</td>\n      <td>2015-10-23 00:00:00.000000</td>\n      <td>EP202015</td>\n      <td>PATRICIA</td>\n      <td>HU</td>\n      <td>Pacific</td>\n    </tr>\n  </tbody>\n</table>\n</div>"
     },
     "metadata": {},
     "output_type": "display_data"
    },
    {
     "data": {
      "text/plain": "      max_wind                measure_date cyclone_id cyclone_name status  \\\n895         65  1975-09-03 00:00:00.000000   CP011975      UNNAMED     HU   \n904         65  2013-08-19 00:00:00.000000   CP012013         PEWA     HU   \n931         65  1978-05-31 00:00:00.000000   EP011978       ALETTA     HU   \n935         65  1986-05-26 00:00:00.000000   EP011986       AGATHA     HU   \n954         65  1976-06-27 00:00:00.000000   EP021976        BONNY     HU   \n957         65  1984-05-30 00:00:00.000000   EP021984        BORIS     HU   \n985         65  1980-06-26 00:00:00.000000   EP031980        CELIA     HU   \n988         65  1988-07-11 00:00:00.000000   EP031988     CARLOTTA     HU   \n1017        65  1977-08-14 00:00:00.000000   EP041977       DOREEN     HU   \n1027        65  1995-07-19 00:00:00.000000   EP041995        COSME     HU   \n1054        65  2001-07-24 00:00:00.000000   EP052001       DALILA     HU   \n1072        65  1974-07-18 00:00:00.000000   EP061974    FRANCESCA     HU   \n1082        65  1991-07-17 00:00:00.000000   EP061991      ENRIQUE     HU   \n1090        65  2007-07-16 00:00:00.000000   EP062007        COSME     HU   \n1098        65  1969-09-10 00:00:00.000000   EP071969       GLENDA     HU   \n1102        65  1979-09-11 00:00:00.000000   EP071979    GUILLERMO     HU   \n1103        65  1980-07-29 00:00:00.000000   EP071980    GEORGETTE     HU   \n1104        65  1981-08-20 00:00:00.000000   EP071981         GREG     HU   \n1135        65  1982-07-30 00:00:00.000000   EP081982       HECTOR     HU   \n1143        65  1994-08-12 00:00:00.000000   EP081994           LI     HU   \n1151        65  2008-07-25 00:00:00.000000   EP082008    GENEVIEVE     HU   \n1154        65  2014-07-27 00:00:00.000000   EP082014       HERNAN     HU   \n1166        65  1978-08-13 00:00:00.000000   EP091978          IVA     HU   \n1196        65  1969-10-10 00:00:00.000000   EP101969     JENNIFER     HU   \n1199        65  1975-08-27 00:00:00.000000   EP101975        JEWEL     HU   \n1211        65  1998-09-02 00:00:00.000000   EP101998         ISIS     HU   \n1234        65  1994-08-12 00:00:00.000000   EP111994       ILEANA     HU   \n1243        65  2013-09-01 00:00:00.000000   EP112013         KIKO     HU   \n1259        65  1999-09-06 00:00:00.000000   EP121999         GREG     HU   \n1260        65  2001-09-23 00:00:00.000000   EP122001         KIKO     HU   \n1261        65  2003-09-15 00:00:00.000000   EP122003        LINDA     HU   \n1262        65  2004-09-15 00:00:00.000000   EP122004         ISIS     HU   \n1266        65  2014-08-21 00:00:00.000000   EP122014       LOWELL     HU   \n1275        65  1985-08-09 00:00:00.000000   EP131985        MARTY     HU   \n1281        65  1998-10-13 00:00:00.000000   EP131998          KAY     HU   \n1282        65  1999-09-20 00:00:00.000000   EP131999       HILARY     HU   \n1290        65  2013-09-19 00:00:00.000000   EP132013       MANUEL     HU   \n1296        65  1974-09-10 00:00:00.000000   EP141974        NORMA     HU   \n1302        65  1987-09-17 00:00:00.000000   EP141987        NORMA     HU   \n1319        65  1978-09-22 00:00:00.000000   EP151978       OLIVIA     HU   \n1326        65  1989-09-01 00:00:00.000000   EP151989       LORENA     HU   \n1327        65  1990-08-27 00:00:00.000000   EP151990       LOWELL     HU   \n1330        65  2003-10-05 00:00:00.000000   EP152003         OLAF     HU   \n1364        65  2014-09-18 00:00:00.000000   EP172014         POLO     HU   \n1375        65  1992-09-13 00:00:00.000000   EP191992        PAINE     HU   \n1380        65  1990-09-30 00:00:00.000000   EP201990         POLO     HU   \n\n       region  \n895   Pacific  \n904   Pacific  \n931   Pacific  \n935   Pacific  \n954   Pacific  \n957   Pacific  \n985   Pacific  \n988   Pacific  \n1017  Pacific  \n1027  Pacific  \n1054  Pacific  \n1072  Pacific  \n1082  Pacific  \n1090  Pacific  \n1098  Pacific  \n1102  Pacific  \n1103  Pacific  \n1104  Pacific  \n1135  Pacific  \n1143  Pacific  \n1151  Pacific  \n1154  Pacific  \n1166  Pacific  \n1196  Pacific  \n1199  Pacific  \n1211  Pacific  \n1234  Pacific  \n1243  Pacific  \n1259  Pacific  \n1260  Pacific  \n1261  Pacific  \n1262  Pacific  \n1266  Pacific  \n1275  Pacific  \n1281  Pacific  \n1282  Pacific  \n1290  Pacific  \n1296  Pacific  \n1302  Pacific  \n1319  Pacific  \n1326  Pacific  \n1327  Pacific  \n1330  Pacific  \n1364  Pacific  \n1375  Pacific  \n1380  Pacific  ",
      "text/html": "<div>\n<style scoped>\n    .dataframe tbody tr th:only-of-type {\n        vertical-align: middle;\n    }\n\n    .dataframe tbody tr th {\n        vertical-align: top;\n    }\n\n    .dataframe thead th {\n        text-align: right;\n    }\n</style>\n<table border=\"1\" class=\"dataframe\">\n  <thead>\n    <tr style=\"text-align: right;\">\n      <th></th>\n      <th>max_wind</th>\n      <th>measure_date</th>\n      <th>cyclone_id</th>\n      <th>cyclone_name</th>\n      <th>status</th>\n      <th>region</th>\n    </tr>\n  </thead>\n  <tbody>\n    <tr>\n      <th>895</th>\n      <td>65</td>\n      <td>1975-09-03 00:00:00.000000</td>\n      <td>CP011975</td>\n      <td>UNNAMED</td>\n      <td>HU</td>\n      <td>Pacific</td>\n    </tr>\n    <tr>\n      <th>904</th>\n      <td>65</td>\n      <td>2013-08-19 00:00:00.000000</td>\n      <td>CP012013</td>\n      <td>PEWA</td>\n      <td>HU</td>\n      <td>Pacific</td>\n    </tr>\n    <tr>\n      <th>931</th>\n      <td>65</td>\n      <td>1978-05-31 00:00:00.000000</td>\n      <td>EP011978</td>\n      <td>ALETTA</td>\n      <td>HU</td>\n      <td>Pacific</td>\n    </tr>\n    <tr>\n      <th>935</th>\n      <td>65</td>\n      <td>1986-05-26 00:00:00.000000</td>\n      <td>EP011986</td>\n      <td>AGATHA</td>\n      <td>HU</td>\n      <td>Pacific</td>\n    </tr>\n    <tr>\n      <th>954</th>\n      <td>65</td>\n      <td>1976-06-27 00:00:00.000000</td>\n      <td>EP021976</td>\n      <td>BONNY</td>\n      <td>HU</td>\n      <td>Pacific</td>\n    </tr>\n    <tr>\n      <th>957</th>\n      <td>65</td>\n      <td>1984-05-30 00:00:00.000000</td>\n      <td>EP021984</td>\n      <td>BORIS</td>\n      <td>HU</td>\n      <td>Pacific</td>\n    </tr>\n    <tr>\n      <th>985</th>\n      <td>65</td>\n      <td>1980-06-26 00:00:00.000000</td>\n      <td>EP031980</td>\n      <td>CELIA</td>\n      <td>HU</td>\n      <td>Pacific</td>\n    </tr>\n    <tr>\n      <th>988</th>\n      <td>65</td>\n      <td>1988-07-11 00:00:00.000000</td>\n      <td>EP031988</td>\n      <td>CARLOTTA</td>\n      <td>HU</td>\n      <td>Pacific</td>\n    </tr>\n    <tr>\n      <th>1017</th>\n      <td>65</td>\n      <td>1977-08-14 00:00:00.000000</td>\n      <td>EP041977</td>\n      <td>DOREEN</td>\n      <td>HU</td>\n      <td>Pacific</td>\n    </tr>\n    <tr>\n      <th>1027</th>\n      <td>65</td>\n      <td>1995-07-19 00:00:00.000000</td>\n      <td>EP041995</td>\n      <td>COSME</td>\n      <td>HU</td>\n      <td>Pacific</td>\n    </tr>\n    <tr>\n      <th>1054</th>\n      <td>65</td>\n      <td>2001-07-24 00:00:00.000000</td>\n      <td>EP052001</td>\n      <td>DALILA</td>\n      <td>HU</td>\n      <td>Pacific</td>\n    </tr>\n    <tr>\n      <th>1072</th>\n      <td>65</td>\n      <td>1974-07-18 00:00:00.000000</td>\n      <td>EP061974</td>\n      <td>FRANCESCA</td>\n      <td>HU</td>\n      <td>Pacific</td>\n    </tr>\n    <tr>\n      <th>1082</th>\n      <td>65</td>\n      <td>1991-07-17 00:00:00.000000</td>\n      <td>EP061991</td>\n      <td>ENRIQUE</td>\n      <td>HU</td>\n      <td>Pacific</td>\n    </tr>\n    <tr>\n      <th>1090</th>\n      <td>65</td>\n      <td>2007-07-16 00:00:00.000000</td>\n      <td>EP062007</td>\n      <td>COSME</td>\n      <td>HU</td>\n      <td>Pacific</td>\n    </tr>\n    <tr>\n      <th>1098</th>\n      <td>65</td>\n      <td>1969-09-10 00:00:00.000000</td>\n      <td>EP071969</td>\n      <td>GLENDA</td>\n      <td>HU</td>\n      <td>Pacific</td>\n    </tr>\n    <tr>\n      <th>1102</th>\n      <td>65</td>\n      <td>1979-09-11 00:00:00.000000</td>\n      <td>EP071979</td>\n      <td>GUILLERMO</td>\n      <td>HU</td>\n      <td>Pacific</td>\n    </tr>\n    <tr>\n      <th>1103</th>\n      <td>65</td>\n      <td>1980-07-29 00:00:00.000000</td>\n      <td>EP071980</td>\n      <td>GEORGETTE</td>\n      <td>HU</td>\n      <td>Pacific</td>\n    </tr>\n    <tr>\n      <th>1104</th>\n      <td>65</td>\n      <td>1981-08-20 00:00:00.000000</td>\n      <td>EP071981</td>\n      <td>GREG</td>\n      <td>HU</td>\n      <td>Pacific</td>\n    </tr>\n    <tr>\n      <th>1135</th>\n      <td>65</td>\n      <td>1982-07-30 00:00:00.000000</td>\n      <td>EP081982</td>\n      <td>HECTOR</td>\n      <td>HU</td>\n      <td>Pacific</td>\n    </tr>\n    <tr>\n      <th>1143</th>\n      <td>65</td>\n      <td>1994-08-12 00:00:00.000000</td>\n      <td>EP081994</td>\n      <td>LI</td>\n      <td>HU</td>\n      <td>Pacific</td>\n    </tr>\n    <tr>\n      <th>1151</th>\n      <td>65</td>\n      <td>2008-07-25 00:00:00.000000</td>\n      <td>EP082008</td>\n      <td>GENEVIEVE</td>\n      <td>HU</td>\n      <td>Pacific</td>\n    </tr>\n    <tr>\n      <th>1154</th>\n      <td>65</td>\n      <td>2014-07-27 00:00:00.000000</td>\n      <td>EP082014</td>\n      <td>HERNAN</td>\n      <td>HU</td>\n      <td>Pacific</td>\n    </tr>\n    <tr>\n      <th>1166</th>\n      <td>65</td>\n      <td>1978-08-13 00:00:00.000000</td>\n      <td>EP091978</td>\n      <td>IVA</td>\n      <td>HU</td>\n      <td>Pacific</td>\n    </tr>\n    <tr>\n      <th>1196</th>\n      <td>65</td>\n      <td>1969-10-10 00:00:00.000000</td>\n      <td>EP101969</td>\n      <td>JENNIFER</td>\n      <td>HU</td>\n      <td>Pacific</td>\n    </tr>\n    <tr>\n      <th>1199</th>\n      <td>65</td>\n      <td>1975-08-27 00:00:00.000000</td>\n      <td>EP101975</td>\n      <td>JEWEL</td>\n      <td>HU</td>\n      <td>Pacific</td>\n    </tr>\n    <tr>\n      <th>1211</th>\n      <td>65</td>\n      <td>1998-09-02 00:00:00.000000</td>\n      <td>EP101998</td>\n      <td>ISIS</td>\n      <td>HU</td>\n      <td>Pacific</td>\n    </tr>\n    <tr>\n      <th>1234</th>\n      <td>65</td>\n      <td>1994-08-12 00:00:00.000000</td>\n      <td>EP111994</td>\n      <td>ILEANA</td>\n      <td>HU</td>\n      <td>Pacific</td>\n    </tr>\n    <tr>\n      <th>1243</th>\n      <td>65</td>\n      <td>2013-09-01 00:00:00.000000</td>\n      <td>EP112013</td>\n      <td>KIKO</td>\n      <td>HU</td>\n      <td>Pacific</td>\n    </tr>\n    <tr>\n      <th>1259</th>\n      <td>65</td>\n      <td>1999-09-06 00:00:00.000000</td>\n      <td>EP121999</td>\n      <td>GREG</td>\n      <td>HU</td>\n      <td>Pacific</td>\n    </tr>\n    <tr>\n      <th>1260</th>\n      <td>65</td>\n      <td>2001-09-23 00:00:00.000000</td>\n      <td>EP122001</td>\n      <td>KIKO</td>\n      <td>HU</td>\n      <td>Pacific</td>\n    </tr>\n    <tr>\n      <th>1261</th>\n      <td>65</td>\n      <td>2003-09-15 00:00:00.000000</td>\n      <td>EP122003</td>\n      <td>LINDA</td>\n      <td>HU</td>\n      <td>Pacific</td>\n    </tr>\n    <tr>\n      <th>1262</th>\n      <td>65</td>\n      <td>2004-09-15 00:00:00.000000</td>\n      <td>EP122004</td>\n      <td>ISIS</td>\n      <td>HU</td>\n      <td>Pacific</td>\n    </tr>\n    <tr>\n      <th>1266</th>\n      <td>65</td>\n      <td>2014-08-21 00:00:00.000000</td>\n      <td>EP122014</td>\n      <td>LOWELL</td>\n      <td>HU</td>\n      <td>Pacific</td>\n    </tr>\n    <tr>\n      <th>1275</th>\n      <td>65</td>\n      <td>1985-08-09 00:00:00.000000</td>\n      <td>EP131985</td>\n      <td>MARTY</td>\n      <td>HU</td>\n      <td>Pacific</td>\n    </tr>\n    <tr>\n      <th>1281</th>\n      <td>65</td>\n      <td>1998-10-13 00:00:00.000000</td>\n      <td>EP131998</td>\n      <td>KAY</td>\n      <td>HU</td>\n      <td>Pacific</td>\n    </tr>\n    <tr>\n      <th>1282</th>\n      <td>65</td>\n      <td>1999-09-20 00:00:00.000000</td>\n      <td>EP131999</td>\n      <td>HILARY</td>\n      <td>HU</td>\n      <td>Pacific</td>\n    </tr>\n    <tr>\n      <th>1290</th>\n      <td>65</td>\n      <td>2013-09-19 00:00:00.000000</td>\n      <td>EP132013</td>\n      <td>MANUEL</td>\n      <td>HU</td>\n      <td>Pacific</td>\n    </tr>\n    <tr>\n      <th>1296</th>\n      <td>65</td>\n      <td>1974-09-10 00:00:00.000000</td>\n      <td>EP141974</td>\n      <td>NORMA</td>\n      <td>HU</td>\n      <td>Pacific</td>\n    </tr>\n    <tr>\n      <th>1302</th>\n      <td>65</td>\n      <td>1987-09-17 00:00:00.000000</td>\n      <td>EP141987</td>\n      <td>NORMA</td>\n      <td>HU</td>\n      <td>Pacific</td>\n    </tr>\n    <tr>\n      <th>1319</th>\n      <td>65</td>\n      <td>1978-09-22 00:00:00.000000</td>\n      <td>EP151978</td>\n      <td>OLIVIA</td>\n      <td>HU</td>\n      <td>Pacific</td>\n    </tr>\n    <tr>\n      <th>1326</th>\n      <td>65</td>\n      <td>1989-09-01 00:00:00.000000</td>\n      <td>EP151989</td>\n      <td>LORENA</td>\n      <td>HU</td>\n      <td>Pacific</td>\n    </tr>\n    <tr>\n      <th>1327</th>\n      <td>65</td>\n      <td>1990-08-27 00:00:00.000000</td>\n      <td>EP151990</td>\n      <td>LOWELL</td>\n      <td>HU</td>\n      <td>Pacific</td>\n    </tr>\n    <tr>\n      <th>1330</th>\n      <td>65</td>\n      <td>2003-10-05 00:00:00.000000</td>\n      <td>EP152003</td>\n      <td>OLAF</td>\n      <td>HU</td>\n      <td>Pacific</td>\n    </tr>\n    <tr>\n      <th>1364</th>\n      <td>65</td>\n      <td>2014-09-18 00:00:00.000000</td>\n      <td>EP172014</td>\n      <td>POLO</td>\n      <td>HU</td>\n      <td>Pacific</td>\n    </tr>\n    <tr>\n      <th>1375</th>\n      <td>65</td>\n      <td>1992-09-13 00:00:00.000000</td>\n      <td>EP191992</td>\n      <td>PAINE</td>\n      <td>HU</td>\n      <td>Pacific</td>\n    </tr>\n    <tr>\n      <th>1380</th>\n      <td>65</td>\n      <td>1990-09-30 00:00:00.000000</td>\n      <td>EP201990</td>\n      <td>POLO</td>\n      <td>HU</td>\n      <td>Pacific</td>\n    </tr>\n  </tbody>\n</table>\n</div>"
     },
     "metadata": {},
     "output_type": "display_data"
    }
   ],
   "source": [
    "max_wind_speed_df = pd.read_sql('''\n",
    "select max(max_wind) max_wind, m.measure_date, c.cyclone_id, cyclone_name, status, region\n",
    "from cyclone c\n",
    "    join measurements m on c.cyclone_id = m.cyclone_id\n",
    "where status = 'HU'\n",
    "group by c.cyclone_id, cyclone_name, status, region\n",
    "collate nocase;\n",
    "''', connector.engine)\n",
    "\n",
    "amw_df = max_wind_speed_df.loc[max_wind_speed_df.region == 'Atlantic']\n",
    "display(amw_df.loc[amw_df.max_wind == amw_df.max_wind.max()])\n",
    "display(amw_df.loc[amw_df.max_wind == amw_df.max_wind.min()])\n",
    "\n",
    "pmw_df = max_wind_speed_df.loc[max_wind_speed_df.region == 'Pacific']\n",
    "display(pmw_df.loc[pmw_df.max_wind == pmw_df.max_wind.max()])\n",
    "display(pmw_df.loc[pmw_df.max_wind == pmw_df.max_wind.min()])"
   ],
   "metadata": {
    "collapsed": false,
    "pycharm": {
     "name": "#%%\n"
    }
   }
  },
  {
   "cell_type": "markdown",
   "source": [
    "## Number of Named Storms"
   ],
   "metadata": {
    "collapsed": false,
    "pycharm": {
     "name": "#%% md\n"
    }
   }
  },
  {
   "cell_type": "code",
   "execution_count": 36,
   "outputs": [
    {
     "data": {
      "text/plain": "       num_named_storms    region\n0                 890.0  Atlantic\n1                 507.0   Pacific\nTotal            1397.0       NaN",
      "text/html": "<div>\n<style scoped>\n    .dataframe tbody tr th:only-of-type {\n        vertical-align: middle;\n    }\n\n    .dataframe tbody tr th {\n        vertical-align: top;\n    }\n\n    .dataframe thead th {\n        text-align: right;\n    }\n</style>\n<table border=\"1\" class=\"dataframe\">\n  <thead>\n    <tr style=\"text-align: right;\">\n      <th></th>\n      <th>num_named_storms</th>\n      <th>region</th>\n    </tr>\n  </thead>\n  <tbody>\n    <tr>\n      <th>0</th>\n      <td>890.0</td>\n      <td>Atlantic</td>\n    </tr>\n    <tr>\n      <th>1</th>\n      <td>507.0</td>\n      <td>Pacific</td>\n    </tr>\n    <tr>\n      <th>Total</th>\n      <td>1397.0</td>\n      <td>NaN</td>\n    </tr>\n  </tbody>\n</table>\n</div>"
     },
     "execution_count": 36,
     "metadata": {},
     "output_type": "execute_result"
    }
   ],
   "source": [
    "named_storms_df = pd.read_sql_query('''\n",
    "select count(distinct c.cyclone_id) num_named_storms, region\n",
    "from cyclone c\n",
    "    join measurements m on c.cyclone_id = m.cyclone_id\n",
    "where status = 'HU'\n",
    "group by region\n",
    "collate nocase''', connector.engine)\n",
    "\n",
    "\n",
    "named_storms_df.loc['Total'] = named_storms_df.sum(numeric_only=True)\n",
    "\n",
    "named_storms_df"
   ],
   "metadata": {
    "collapsed": false,
    "pycharm": {
     "name": "#%%\n"
    }
   }
  },
  {
   "cell_type": "markdown",
   "source": [
    "## Earliest Named Storm"
   ],
   "metadata": {
    "collapsed": false,
    "pycharm": {
     "name": "#%% md\n"
    }
   }
  },
  {
   "cell_type": "code",
   "execution_count": 33,
   "outputs": [
    {
     "data": {
      "text/plain": "      cyclone_id cyclone_name                measure_date    region\n0       AL011950         ABLE  1950-08-12 00:00:00.000000  Atlantic\n1       AL011950         ABLE  1950-08-12 00:00:00.000000  Atlantic\n2       AL011950         ABLE  1950-08-12 00:00:00.000000  Atlantic\n3       AL011950         ABLE  1950-08-12 00:00:00.000000  Atlantic\n22542   CP011950         HIKI  1950-08-12 00:00:00.000000   Pacific\n22543   CP011950         HIKI  1950-08-12 00:00:00.000000   Pacific\n22544   CP011950         HIKI  1950-08-12 00:00:00.000000   Pacific\n22545   CP011950         HIKI  1950-08-12 00:00:00.000000   Pacific",
      "text/html": "<div>\n<style scoped>\n    .dataframe tbody tr th:only-of-type {\n        vertical-align: middle;\n    }\n\n    .dataframe tbody tr th {\n        vertical-align: top;\n    }\n\n    .dataframe thead th {\n        text-align: right;\n    }\n</style>\n<table border=\"1\" class=\"dataframe\">\n  <thead>\n    <tr style=\"text-align: right;\">\n      <th></th>\n      <th>cyclone_id</th>\n      <th>cyclone_name</th>\n      <th>measure_date</th>\n      <th>region</th>\n    </tr>\n  </thead>\n  <tbody>\n    <tr>\n      <th>0</th>\n      <td>AL011950</td>\n      <td>ABLE</td>\n      <td>1950-08-12 00:00:00.000000</td>\n      <td>Atlantic</td>\n    </tr>\n    <tr>\n      <th>1</th>\n      <td>AL011950</td>\n      <td>ABLE</td>\n      <td>1950-08-12 00:00:00.000000</td>\n      <td>Atlantic</td>\n    </tr>\n    <tr>\n      <th>2</th>\n      <td>AL011950</td>\n      <td>ABLE</td>\n      <td>1950-08-12 00:00:00.000000</td>\n      <td>Atlantic</td>\n    </tr>\n    <tr>\n      <th>3</th>\n      <td>AL011950</td>\n      <td>ABLE</td>\n      <td>1950-08-12 00:00:00.000000</td>\n      <td>Atlantic</td>\n    </tr>\n    <tr>\n      <th>22542</th>\n      <td>CP011950</td>\n      <td>HIKI</td>\n      <td>1950-08-12 00:00:00.000000</td>\n      <td>Pacific</td>\n    </tr>\n    <tr>\n      <th>22543</th>\n      <td>CP011950</td>\n      <td>HIKI</td>\n      <td>1950-08-12 00:00:00.000000</td>\n      <td>Pacific</td>\n    </tr>\n    <tr>\n      <th>22544</th>\n      <td>CP011950</td>\n      <td>HIKI</td>\n      <td>1950-08-12 00:00:00.000000</td>\n      <td>Pacific</td>\n    </tr>\n    <tr>\n      <th>22545</th>\n      <td>CP011950</td>\n      <td>HIKI</td>\n      <td>1950-08-12 00:00:00.000000</td>\n      <td>Pacific</td>\n    </tr>\n  </tbody>\n</table>\n</div>"
     },
     "metadata": {},
     "output_type": "display_data"
    }
   ],
   "source": [
    "storm_date_df = pd.read_sql_query('''\n",
    "select c.cyclone_id, c.cyclone_name, m.measure_date, region\n",
    "from cyclone c\n",
    "    join measurements m on c.cyclone_id = m.cyclone_id\n",
    "where cyclone_name not in ('UNNAMED')\n",
    "collate nocase''', connector.engine)\n",
    "display(storm_date_df.loc[storm_date_df.measure_date == storm_date_df.measure_date.min()])"
   ],
   "metadata": {
    "collapsed": false,
    "pycharm": {
     "name": "#%%\n"
    }
   }
  },
  {
   "cell_type": "markdown",
   "source": [
    "## Most Hurricanes by year"
   ],
   "metadata": {
    "collapsed": false,
    "pycharm": {
     "name": "#%% md\n"
    }
   }
  },
  {
   "cell_type": "code",
   "execution_count": 45,
   "outputs": [
    {
     "data": {
      "text/plain": "    year  cyclone_count    region\n3   2005             15  Atlantic\n8   1969             12  Atlantic\n12  2010             12  Atlantic\n13  1887             11  Atlantic\n14  1933             11  Atlantic",
      "text/html": "<div>\n<style scoped>\n    .dataframe tbody tr th:only-of-type {\n        vertical-align: middle;\n    }\n\n    .dataframe tbody tr th {\n        vertical-align: top;\n    }\n\n    .dataframe thead th {\n        text-align: right;\n    }\n</style>\n<table border=\"1\" class=\"dataframe\">\n  <thead>\n    <tr style=\"text-align: right;\">\n      <th></th>\n      <th>year</th>\n      <th>cyclone_count</th>\n      <th>region</th>\n    </tr>\n  </thead>\n  <tbody>\n    <tr>\n      <th>3</th>\n      <td>2005</td>\n      <td>15</td>\n      <td>Atlantic</td>\n    </tr>\n    <tr>\n      <th>8</th>\n      <td>1969</td>\n      <td>12</td>\n      <td>Atlantic</td>\n    </tr>\n    <tr>\n      <th>12</th>\n      <td>2010</td>\n      <td>12</td>\n      <td>Atlantic</td>\n    </tr>\n    <tr>\n      <th>13</th>\n      <td>1887</td>\n      <td>11</td>\n      <td>Atlantic</td>\n    </tr>\n    <tr>\n      <th>14</th>\n      <td>1933</td>\n      <td>11</td>\n      <td>Atlantic</td>\n    </tr>\n  </tbody>\n</table>\n</div>"
     },
     "metadata": {},
     "output_type": "display_data"
    },
    {
     "data": {
      "text/plain": "   year  cyclone_count   region\n0  1990             16  Pacific\n1  1992             16  Pacific\n2  2014             16  Pacific\n4  1978             14  Pacific\n5  1984             13  Pacific",
      "text/html": "<div>\n<style scoped>\n    .dataframe tbody tr th:only-of-type {\n        vertical-align: middle;\n    }\n\n    .dataframe tbody tr th {\n        vertical-align: top;\n    }\n\n    .dataframe thead th {\n        text-align: right;\n    }\n</style>\n<table border=\"1\" class=\"dataframe\">\n  <thead>\n    <tr style=\"text-align: right;\">\n      <th></th>\n      <th>year</th>\n      <th>cyclone_count</th>\n      <th>region</th>\n    </tr>\n  </thead>\n  <tbody>\n    <tr>\n      <th>0</th>\n      <td>1990</td>\n      <td>16</td>\n      <td>Pacific</td>\n    </tr>\n    <tr>\n      <th>1</th>\n      <td>1992</td>\n      <td>16</td>\n      <td>Pacific</td>\n    </tr>\n    <tr>\n      <th>2</th>\n      <td>2014</td>\n      <td>16</td>\n      <td>Pacific</td>\n    </tr>\n    <tr>\n      <th>4</th>\n      <td>1978</td>\n      <td>14</td>\n      <td>Pacific</td>\n    </tr>\n    <tr>\n      <th>5</th>\n      <td>1984</td>\n      <td>13</td>\n      <td>Pacific</td>\n    </tr>\n  </tbody>\n</table>\n</div>"
     },
     "metadata": {},
     "output_type": "display_data"
    }
   ],
   "source": [
    "year_df = pd.read_sql_query('''\n",
    "select strftime('%Y', measure_date) year, count(distinct c.cyclone_id) cyclone_count, region\n",
    "from cyclone c\n",
    "    join measurements m on c.cyclone_id = m.cyclone_id\n",
    "where status = 'HU'\n",
    "group by year, region\n",
    "order by cyclone_count desc\n",
    "''', connector.engine)\n",
    "display(year_df.loc[year_df.region == 'Atlantic'].head())\n",
    "display(year_df.loc[year_df.region == 'Pacific'].head())"
   ],
   "metadata": {
    "collapsed": false,
    "pycharm": {
     "name": "#%%\n"
    }
   }
  }
 ],
 "metadata": {
  "kernelspec": {
   "display_name": "Python 3",
   "language": "python",
   "name": "python3"
  },
  "language_info": {
   "codemirror_mode": {
    "name": "ipython",
    "version": 3
   },
   "file_extension": ".py",
   "mimetype": "text/x-python",
   "name": "python",
   "nbconvert_exporter": "python",
   "pygments_lexer": "ipython3",
   "version": "3.8.5"
  }
 },
 "nbformat": 4,
 "nbformat_minor": 4
}