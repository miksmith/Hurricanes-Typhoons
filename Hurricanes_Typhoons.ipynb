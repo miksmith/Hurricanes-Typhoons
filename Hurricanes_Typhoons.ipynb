{
 "cells": [
  {
   "cell_type": "code",
   "execution_count": 35,
   "metadata": {},
   "outputs": [],
   "source": [
    "# Dependencies\n",
    "# ----------------------------------\n",
    "from sqlalchemy import create_engine\n",
    "from sqlalchemy.ext.declarative import declarative_base\n",
    "import pandas as pd\n",
    "import datetime as dt\n",
    "Base = declarative_base()\n",
    "\n",
    "from Scripts import sqlconnector"
   ]
  },
  {
   "cell_type": "code",
   "execution_count": 23,
   "metadata": {
    "pycharm": {
     "name": "#%%\n"
    }
   },
   "outputs": [],
   "source": [
    "# Create sqlalchemy Connection\n",
    "connector = sqlconnector.sqliteConnector()"
   ]
  },
  {
   "cell_type": "code",
   "execution_count": null,
   "outputs": [],
   "source": [
    "# Create Database and Tables\n",
    "sqlconnector.create_tables()"
   ],
   "metadata": {
    "collapsed": false,
    "pycharm": {
     "name": "#%%\n"
    }
   }
  },
  {
   "cell_type": "code",
   "execution_count": 79,
   "outputs": [],
   "source": [
    "atlantic_df = pd.read_csv('Resources/file/atlantic.csv')\n",
    "pacific_df = pd.read_csv('Resources/file/pacific.csv')"
   ],
   "metadata": {
    "collapsed": false,
    "pycharm": {
     "name": "#%% import to pandas\n"
    }
   }
  },
  {
   "cell_type": "code",
   "execution_count": 25,
   "outputs": [],
   "source": [
    "atlantic_hurricane_df = atlantic_df.loc[:,['ID', 'Name']].drop_duplicates()\n",
    "# add region\n",
    "atlantic_hurricane_df['region'] = 'Atlantic'\n",
    "\n",
    "# fix column names\n",
    "atlantic_hurricane_df = atlantic_hurricane_df.rename(columns={\n",
    "    'ID': 'hurricane_id',\n",
    "    'Name': 'hurricane_name'\n",
    "})"
   ],
   "metadata": {
    "collapsed": false,
    "pycharm": {
     "name": "#%%\n"
    }
   }
  },
  {
   "cell_type": "code",
   "execution_count": 26,
   "outputs": [],
   "source": [
    "atlantic_hurricane_df.to_sql('hurricane', connector.engine, index=False, if_exists='append')\n"
   ],
   "metadata": {
    "collapsed": false,
    "pycharm": {
     "name": "#%% Write to table\n"
    }
   }
  },
  {
   "cell_type": "code",
   "execution_count": 27,
   "outputs": [],
   "source": [
    "pacific_hurricane_df = pacific_df.loc[:,['ID', 'Name']].drop_duplicates()\n",
    "# add region\n",
    "pacific_hurricane_df['region'] = 'Pacific'\n",
    "\n",
    "# fix column names\n",
    "pacific_hurricane_df = pacific_hurricane_df.rename(columns={\n",
    "    'ID': 'hurricane_id',\n",
    "    'Name': 'hurricane_name'\n",
    "})"
   ],
   "metadata": {
    "collapsed": false,
    "pycharm": {
     "name": "#%%\n"
    }
   }
  },
  {
   "cell_type": "code",
   "execution_count": 28,
   "outputs": [],
   "source": [
    "pacific_hurricane_df.to_sql('hurricane', connector.engine, index=False, if_exists='append')"
   ],
   "metadata": {
    "collapsed": false,
    "pycharm": {
     "name": "#%% Write to table\n"
    }
   }
  },
  {
   "cell_type": "code",
   "execution_count": 72,
   "outputs": [
    {
     "data": {
      "text/plain": "  hurricane_id  measure_date  measure_time event status latitude longitude  \\\n0     AL011851      18510625             0           HU    28.0N     94.8W   \n1     AL011851      18510625           600           HU    28.0N     95.4W   \n2     AL011851      18510625          1200           HU    28.0N     96.0W   \n3     AL011851      18510625          1800           HU    28.1N     96.5W   \n4     AL011851      18510625          2100     L     HU    28.2N     96.8W   \n\n   max_wind  min_pressure  low_wind_ne  ...  low_wind_sw  low_wind_nw  \\\n0        80          -999          999  ...         -999          999   \n1        80          -999          999  ...         -999          999   \n2        80          -999          999  ...         -999          999   \n3        80          -999          999  ...         -999          999   \n4        80          -999          999  ...         -999          999   \n\n   mod_wind_ne  mod_wind_se  mod_wind_sw  mod_wind_nw  high_wind_ne  \\\n0          999         -999         -999          999           999   \n1          999         -999         -999          999           999   \n2          999         -999         -999          999           999   \n3          999         -999         -999          999           999   \n4          999         -999         -999          999           999   \n\n   high_wind_se  high_wind_sw  high_wind_nw  \n0          -999          -999           999  \n1          -999          -999           999  \n2          -999          -999           999  \n3          -999          -999           999  \n4          -999          -999           999  \n\n[5 rows x 21 columns]",
      "text/html": "<div>\n<style scoped>\n    .dataframe tbody tr th:only-of-type {\n        vertical-align: middle;\n    }\n\n    .dataframe tbody tr th {\n        vertical-align: top;\n    }\n\n    .dataframe thead th {\n        text-align: right;\n    }\n</style>\n<table border=\"1\" class=\"dataframe\">\n  <thead>\n    <tr style=\"text-align: right;\">\n      <th></th>\n      <th>hurricane_id</th>\n      <th>measure_date</th>\n      <th>measure_time</th>\n      <th>event</th>\n      <th>status</th>\n      <th>latitude</th>\n      <th>longitude</th>\n      <th>max_wind</th>\n      <th>min_pressure</th>\n      <th>low_wind_ne</th>\n      <th>...</th>\n      <th>low_wind_sw</th>\n      <th>low_wind_nw</th>\n      <th>mod_wind_ne</th>\n      <th>mod_wind_se</th>\n      <th>mod_wind_sw</th>\n      <th>mod_wind_nw</th>\n      <th>high_wind_ne</th>\n      <th>high_wind_se</th>\n      <th>high_wind_sw</th>\n      <th>high_wind_nw</th>\n    </tr>\n  </thead>\n  <tbody>\n    <tr>\n      <th>0</th>\n      <td>AL011851</td>\n      <td>18510625</td>\n      <td>0</td>\n      <td></td>\n      <td>HU</td>\n      <td>28.0N</td>\n      <td>94.8W</td>\n      <td>80</td>\n      <td>-999</td>\n      <td>999</td>\n      <td>...</td>\n      <td>-999</td>\n      <td>999</td>\n      <td>999</td>\n      <td>-999</td>\n      <td>-999</td>\n      <td>999</td>\n      <td>999</td>\n      <td>-999</td>\n      <td>-999</td>\n      <td>999</td>\n    </tr>\n    <tr>\n      <th>1</th>\n      <td>AL011851</td>\n      <td>18510625</td>\n      <td>600</td>\n      <td></td>\n      <td>HU</td>\n      <td>28.0N</td>\n      <td>95.4W</td>\n      <td>80</td>\n      <td>-999</td>\n      <td>999</td>\n      <td>...</td>\n      <td>-999</td>\n      <td>999</td>\n      <td>999</td>\n      <td>-999</td>\n      <td>-999</td>\n      <td>999</td>\n      <td>999</td>\n      <td>-999</td>\n      <td>-999</td>\n      <td>999</td>\n    </tr>\n    <tr>\n      <th>2</th>\n      <td>AL011851</td>\n      <td>18510625</td>\n      <td>1200</td>\n      <td></td>\n      <td>HU</td>\n      <td>28.0N</td>\n      <td>96.0W</td>\n      <td>80</td>\n      <td>-999</td>\n      <td>999</td>\n      <td>...</td>\n      <td>-999</td>\n      <td>999</td>\n      <td>999</td>\n      <td>-999</td>\n      <td>-999</td>\n      <td>999</td>\n      <td>999</td>\n      <td>-999</td>\n      <td>-999</td>\n      <td>999</td>\n    </tr>\n    <tr>\n      <th>3</th>\n      <td>AL011851</td>\n      <td>18510625</td>\n      <td>1800</td>\n      <td></td>\n      <td>HU</td>\n      <td>28.1N</td>\n      <td>96.5W</td>\n      <td>80</td>\n      <td>-999</td>\n      <td>999</td>\n      <td>...</td>\n      <td>-999</td>\n      <td>999</td>\n      <td>999</td>\n      <td>-999</td>\n      <td>-999</td>\n      <td>999</td>\n      <td>999</td>\n      <td>-999</td>\n      <td>-999</td>\n      <td>999</td>\n    </tr>\n    <tr>\n      <th>4</th>\n      <td>AL011851</td>\n      <td>18510625</td>\n      <td>2100</td>\n      <td>L</td>\n      <td>HU</td>\n      <td>28.2N</td>\n      <td>96.8W</td>\n      <td>80</td>\n      <td>-999</td>\n      <td>999</td>\n      <td>...</td>\n      <td>-999</td>\n      <td>999</td>\n      <td>999</td>\n      <td>-999</td>\n      <td>-999</td>\n      <td>999</td>\n      <td>999</td>\n      <td>-999</td>\n      <td>-999</td>\n      <td>999</td>\n    </tr>\n  </tbody>\n</table>\n<p>5 rows × 21 columns</p>\n</div>"
     },
     "execution_count": 72,
     "metadata": {},
     "output_type": "execute_result"
    }
   ],
   "source": [
    "atlantic_measurement_df = atlantic_df.drop(columns='Name')\n",
    "\n",
    "atlantic_measurement_df = atlantic_measurement_df.rename(columns={\n",
    "    'ID': 'hurricane_id',\n",
    "    'Date': 'measure_date',\n",
    "    'Time': 'measure_time',\n",
    "    'Event': 'event',\n",
    "    'Status': 'status',\n",
    "    'Latitude': 'latitude',\n",
    "    'Longitude': 'longitude',\n",
    "    'Maximum Wind': 'max_wind',\n",
    "    'Minimum Pressure': 'min_pressure',\n",
    "    'Low Wind NE': 'low_wind_ne',\n",
    "    'Low Wind NW': 'low_wind_nw',\n",
    "    'Low Wind SE': 'low_wind_se',\n",
    "    'Low Wind SW': 'low_wind_sw',\n",
    "    'Moderate Wind NE': 'mod_wind_ne',\n",
    "    'Moderate Wind NW': 'mod_wind_nw',\n",
    "    'Moderate Wind SE': 'mod_wind_se',\n",
    "    'Moderate Wind SW': 'mod_wind_sw',\n",
    "    'High Wind NE': 'high_wind_ne',\n",
    "    'High Wind NW': 'high_wind_nw',\n",
    "    'High Wind SE': 'high_wind_se',\n",
    "    'High Wind SW': 'high_wind_sw',\n",
    "})\n",
    "atlantic_measurement_df.head()"
   ],
   "metadata": {
    "collapsed": false,
    "pycharm": {
     "name": "#%% Create Measurement Dataframe\n"
    }
   }
  },
  {
   "cell_type": "code",
   "execution_count": 73,
   "outputs": [
    {
     "data": {
      "text/plain": "  hurricane_id measure_date        measure_time event status latitude  \\\n0     AL011851   1851-06-25 1900-01-01 00:00:00           HU    28.0N   \n1     AL011851   1851-06-25 1900-01-01 06:00:00           HU    28.0N   \n2     AL011851   1851-06-25 1900-01-01 12:00:00           HU    28.0N   \n3     AL011851   1851-06-25 1900-01-01 18:00:00           HU    28.1N   \n4     AL011851   1851-06-25 1900-01-01 21:00:00     L     HU    28.2N   \n\n  longitude  max_wind  min_pressure  low_wind_ne  ...  low_wind_sw  \\\n0     94.8W        80          -999          999  ...         -999   \n1     95.4W        80          -999          999  ...         -999   \n2     96.0W        80          -999          999  ...         -999   \n3     96.5W        80          -999          999  ...         -999   \n4     96.8W        80          -999          999  ...         -999   \n\n   low_wind_nw  mod_wind_ne  mod_wind_se  mod_wind_sw  mod_wind_nw  \\\n0          999          999         -999         -999          999   \n1          999          999         -999         -999          999   \n2          999          999         -999         -999          999   \n3          999          999         -999         -999          999   \n4          999          999         -999         -999          999   \n\n   high_wind_ne  high_wind_se  high_wind_sw  high_wind_nw  \n0           999          -999          -999           999  \n1           999          -999          -999           999  \n2           999          -999          -999           999  \n3           999          -999          -999           999  \n4           999          -999          -999           999  \n\n[5 rows x 21 columns]",
      "text/html": "<div>\n<style scoped>\n    .dataframe tbody tr th:only-of-type {\n        vertical-align: middle;\n    }\n\n    .dataframe tbody tr th {\n        vertical-align: top;\n    }\n\n    .dataframe thead th {\n        text-align: right;\n    }\n</style>\n<table border=\"1\" class=\"dataframe\">\n  <thead>\n    <tr style=\"text-align: right;\">\n      <th></th>\n      <th>hurricane_id</th>\n      <th>measure_date</th>\n      <th>measure_time</th>\n      <th>event</th>\n      <th>status</th>\n      <th>latitude</th>\n      <th>longitude</th>\n      <th>max_wind</th>\n      <th>min_pressure</th>\n      <th>low_wind_ne</th>\n      <th>...</th>\n      <th>low_wind_sw</th>\n      <th>low_wind_nw</th>\n      <th>mod_wind_ne</th>\n      <th>mod_wind_se</th>\n      <th>mod_wind_sw</th>\n      <th>mod_wind_nw</th>\n      <th>high_wind_ne</th>\n      <th>high_wind_se</th>\n      <th>high_wind_sw</th>\n      <th>high_wind_nw</th>\n    </tr>\n  </thead>\n  <tbody>\n    <tr>\n      <th>0</th>\n      <td>AL011851</td>\n      <td>1851-06-25</td>\n      <td>1900-01-01 00:00:00</td>\n      <td></td>\n      <td>HU</td>\n      <td>28.0N</td>\n      <td>94.8W</td>\n      <td>80</td>\n      <td>-999</td>\n      <td>999</td>\n      <td>...</td>\n      <td>-999</td>\n      <td>999</td>\n      <td>999</td>\n      <td>-999</td>\n      <td>-999</td>\n      <td>999</td>\n      <td>999</td>\n      <td>-999</td>\n      <td>-999</td>\n      <td>999</td>\n    </tr>\n    <tr>\n      <th>1</th>\n      <td>AL011851</td>\n      <td>1851-06-25</td>\n      <td>1900-01-01 06:00:00</td>\n      <td></td>\n      <td>HU</td>\n      <td>28.0N</td>\n      <td>95.4W</td>\n      <td>80</td>\n      <td>-999</td>\n      <td>999</td>\n      <td>...</td>\n      <td>-999</td>\n      <td>999</td>\n      <td>999</td>\n      <td>-999</td>\n      <td>-999</td>\n      <td>999</td>\n      <td>999</td>\n      <td>-999</td>\n      <td>-999</td>\n      <td>999</td>\n    </tr>\n    <tr>\n      <th>2</th>\n      <td>AL011851</td>\n      <td>1851-06-25</td>\n      <td>1900-01-01 12:00:00</td>\n      <td></td>\n      <td>HU</td>\n      <td>28.0N</td>\n      <td>96.0W</td>\n      <td>80</td>\n      <td>-999</td>\n      <td>999</td>\n      <td>...</td>\n      <td>-999</td>\n      <td>999</td>\n      <td>999</td>\n      <td>-999</td>\n      <td>-999</td>\n      <td>999</td>\n      <td>999</td>\n      <td>-999</td>\n      <td>-999</td>\n      <td>999</td>\n    </tr>\n    <tr>\n      <th>3</th>\n      <td>AL011851</td>\n      <td>1851-06-25</td>\n      <td>1900-01-01 18:00:00</td>\n      <td></td>\n      <td>HU</td>\n      <td>28.1N</td>\n      <td>96.5W</td>\n      <td>80</td>\n      <td>-999</td>\n      <td>999</td>\n      <td>...</td>\n      <td>-999</td>\n      <td>999</td>\n      <td>999</td>\n      <td>-999</td>\n      <td>-999</td>\n      <td>999</td>\n      <td>999</td>\n      <td>-999</td>\n      <td>-999</td>\n      <td>999</td>\n    </tr>\n    <tr>\n      <th>4</th>\n      <td>AL011851</td>\n      <td>1851-06-25</td>\n      <td>1900-01-01 21:00:00</td>\n      <td>L</td>\n      <td>HU</td>\n      <td>28.2N</td>\n      <td>96.8W</td>\n      <td>80</td>\n      <td>-999</td>\n      <td>999</td>\n      <td>...</td>\n      <td>-999</td>\n      <td>999</td>\n      <td>999</td>\n      <td>-999</td>\n      <td>-999</td>\n      <td>999</td>\n      <td>999</td>\n      <td>-999</td>\n      <td>-999</td>\n      <td>999</td>\n    </tr>\n  </tbody>\n</table>\n<p>5 rows × 21 columns</p>\n</div>"
     },
     "execution_count": 73,
     "metadata": {},
     "output_type": "execute_result"
    }
   ],
   "source": [
    "atlantic_measurement_df['measure_date'] = pd.to_datetime(atlantic_measurement_df['measure_date'], format='%Y%m%d')\n",
    "atlantic_measurement_df['measure_time'] = atlantic_measurement_df['measure_time'].replace(0, '0000')\n",
    "atlantic_measurement_df['measure_time'] = pd.to_datetime(atlantic_measurement_df['measure_time'], format='%H%M')\n",
    "atlantic_measurement_df.head()"
   ],
   "metadata": {
    "collapsed": false,
    "pycharm": {
     "name": "#%% fix date and time columns\n"
    }
   }
  },
  {
   "cell_type": "code",
   "execution_count": 75,
   "outputs": [],
   "source": [
    "atlantic_measurement_df.to_sql('measurements', connector.engine, index=False, if_exists='append')"
   ],
   "metadata": {
    "collapsed": false,
    "pycharm": {
     "name": "#%% Upload atlantic data to database\n"
    }
   }
  },
  {
   "cell_type": "code",
   "execution_count": 80,
   "outputs": [
    {
     "data": {
      "text/plain": "  hurricane_id  measure_date  measure_time event status latitude longitude  \\\n0     EP011949      19490611             0           TS    20.2N    106.3W   \n1     EP011949      19490611           600           TS    20.2N    106.4W   \n2     EP011949      19490611          1200           TS    20.2N    106.7W   \n3     EP011949      19490611          1800           TS    20.3N    107.7W   \n4     EP011949      19490612             0           TS    20.4N    108.6W   \n\n   max_wind  min_pressure  low_wind_ne  ...  low_wind_sw  low_wind_nw  \\\n0        45          -999          999  ...         -999          999   \n1        45          -999          999  ...         -999          999   \n2        45          -999          999  ...         -999          999   \n3        45          -999          999  ...         -999          999   \n4        45          -999          999  ...         -999          999   \n\n   mod_wind_ne  mod_wind_se  mod_wind_sw  mod_wind_nw  high_wind_ne  \\\n0          999         -999         -999          999           999   \n1          999         -999         -999          999           999   \n2          999         -999         -999          999           999   \n3          999         -999         -999          999           999   \n4          999         -999         -999          999           999   \n\n   high_wind_se  high_wind_sw  high_wind_nw  \n0          -999          -999           999  \n1          -999          -999           999  \n2          -999          -999           999  \n3          -999          -999           999  \n4          -999          -999           999  \n\n[5 rows x 21 columns]",
      "text/html": "<div>\n<style scoped>\n    .dataframe tbody tr th:only-of-type {\n        vertical-align: middle;\n    }\n\n    .dataframe tbody tr th {\n        vertical-align: top;\n    }\n\n    .dataframe thead th {\n        text-align: right;\n    }\n</style>\n<table border=\"1\" class=\"dataframe\">\n  <thead>\n    <tr style=\"text-align: right;\">\n      <th></th>\n      <th>hurricane_id</th>\n      <th>measure_date</th>\n      <th>measure_time</th>\n      <th>event</th>\n      <th>status</th>\n      <th>latitude</th>\n      <th>longitude</th>\n      <th>max_wind</th>\n      <th>min_pressure</th>\n      <th>low_wind_ne</th>\n      <th>...</th>\n      <th>low_wind_sw</th>\n      <th>low_wind_nw</th>\n      <th>mod_wind_ne</th>\n      <th>mod_wind_se</th>\n      <th>mod_wind_sw</th>\n      <th>mod_wind_nw</th>\n      <th>high_wind_ne</th>\n      <th>high_wind_se</th>\n      <th>high_wind_sw</th>\n      <th>high_wind_nw</th>\n    </tr>\n  </thead>\n  <tbody>\n    <tr>\n      <th>0</th>\n      <td>EP011949</td>\n      <td>19490611</td>\n      <td>0</td>\n      <td></td>\n      <td>TS</td>\n      <td>20.2N</td>\n      <td>106.3W</td>\n      <td>45</td>\n      <td>-999</td>\n      <td>999</td>\n      <td>...</td>\n      <td>-999</td>\n      <td>999</td>\n      <td>999</td>\n      <td>-999</td>\n      <td>-999</td>\n      <td>999</td>\n      <td>999</td>\n      <td>-999</td>\n      <td>-999</td>\n      <td>999</td>\n    </tr>\n    <tr>\n      <th>1</th>\n      <td>EP011949</td>\n      <td>19490611</td>\n      <td>600</td>\n      <td></td>\n      <td>TS</td>\n      <td>20.2N</td>\n      <td>106.4W</td>\n      <td>45</td>\n      <td>-999</td>\n      <td>999</td>\n      <td>...</td>\n      <td>-999</td>\n      <td>999</td>\n      <td>999</td>\n      <td>-999</td>\n      <td>-999</td>\n      <td>999</td>\n      <td>999</td>\n      <td>-999</td>\n      <td>-999</td>\n      <td>999</td>\n    </tr>\n    <tr>\n      <th>2</th>\n      <td>EP011949</td>\n      <td>19490611</td>\n      <td>1200</td>\n      <td></td>\n      <td>TS</td>\n      <td>20.2N</td>\n      <td>106.7W</td>\n      <td>45</td>\n      <td>-999</td>\n      <td>999</td>\n      <td>...</td>\n      <td>-999</td>\n      <td>999</td>\n      <td>999</td>\n      <td>-999</td>\n      <td>-999</td>\n      <td>999</td>\n      <td>999</td>\n      <td>-999</td>\n      <td>-999</td>\n      <td>999</td>\n    </tr>\n    <tr>\n      <th>3</th>\n      <td>EP011949</td>\n      <td>19490611</td>\n      <td>1800</td>\n      <td></td>\n      <td>TS</td>\n      <td>20.3N</td>\n      <td>107.7W</td>\n      <td>45</td>\n      <td>-999</td>\n      <td>999</td>\n      <td>...</td>\n      <td>-999</td>\n      <td>999</td>\n      <td>999</td>\n      <td>-999</td>\n      <td>-999</td>\n      <td>999</td>\n      <td>999</td>\n      <td>-999</td>\n      <td>-999</td>\n      <td>999</td>\n    </tr>\n    <tr>\n      <th>4</th>\n      <td>EP011949</td>\n      <td>19490612</td>\n      <td>0</td>\n      <td></td>\n      <td>TS</td>\n      <td>20.4N</td>\n      <td>108.6W</td>\n      <td>45</td>\n      <td>-999</td>\n      <td>999</td>\n      <td>...</td>\n      <td>-999</td>\n      <td>999</td>\n      <td>999</td>\n      <td>-999</td>\n      <td>-999</td>\n      <td>999</td>\n      <td>999</td>\n      <td>-999</td>\n      <td>-999</td>\n      <td>999</td>\n    </tr>\n  </tbody>\n</table>\n<p>5 rows × 21 columns</p>\n</div>"
     },
     "execution_count": 80,
     "metadata": {},
     "output_type": "execute_result"
    }
   ],
   "source": [
    "pacific_measurement_df = pacific_df.drop(columns='Name')\n",
    "\n",
    "pacific_measurement_df = pacific_measurement_df.rename(columns={\n",
    "    'ID': 'hurricane_id',\n",
    "    'Date': 'measure_date',\n",
    "    'Time': 'measure_time',\n",
    "    'Event': 'event',\n",
    "    'Status': 'status',\n",
    "    'Latitude': 'latitude',\n",
    "    'Longitude': 'longitude',\n",
    "    'Maximum Wind': 'max_wind',\n",
    "    'Minimum Pressure': 'min_pressure',\n",
    "    'Low Wind NE': 'low_wind_ne',\n",
    "    'Low Wind NW': 'low_wind_nw',\n",
    "    'Low Wind SE': 'low_wind_se',\n",
    "    'Low Wind SW': 'low_wind_sw',\n",
    "    'Moderate Wind NE': 'mod_wind_ne',\n",
    "    'Moderate Wind NW': 'mod_wind_nw',\n",
    "    'Moderate Wind SE': 'mod_wind_se',\n",
    "    'Moderate Wind SW': 'mod_wind_sw',\n",
    "    'High Wind NE': 'high_wind_ne',\n",
    "    'High Wind NW': 'high_wind_nw',\n",
    "    'High Wind SE': 'high_wind_se',\n",
    "    'High Wind SW': 'high_wind_sw',\n",
    "})\n",
    "pacific_measurement_df.head()"
   ],
   "metadata": {
    "collapsed": false,
    "pycharm": {
     "name": "#%% Create Measurement Dataframe\n"
    }
   }
  },
  {
   "cell_type": "code",
   "execution_count": 81,
   "outputs": [
    {
     "data": {
      "text/plain": "  hurricane_id measure_date        measure_time event status latitude  \\\n0     EP011949   1949-06-11 1900-01-01 00:00:00           TS    20.2N   \n1     EP011949   1949-06-11 1900-01-01 06:00:00           TS    20.2N   \n2     EP011949   1949-06-11 1900-01-01 12:00:00           TS    20.2N   \n3     EP011949   1949-06-11 1900-01-01 18:00:00           TS    20.3N   \n4     EP011949   1949-06-12 1900-01-01 00:00:00           TS    20.4N   \n\n  longitude  max_wind  min_pressure  low_wind_ne  ...  low_wind_sw  \\\n0    106.3W        45          -999          999  ...         -999   \n1    106.4W        45          -999          999  ...         -999   \n2    106.7W        45          -999          999  ...         -999   \n3    107.7W        45          -999          999  ...         -999   \n4    108.6W        45          -999          999  ...         -999   \n\n   low_wind_nw  mod_wind_ne  mod_wind_se  mod_wind_sw  mod_wind_nw  \\\n0          999          999         -999         -999          999   \n1          999          999         -999         -999          999   \n2          999          999         -999         -999          999   \n3          999          999         -999         -999          999   \n4          999          999         -999         -999          999   \n\n   high_wind_ne  high_wind_se  high_wind_sw  high_wind_nw  \n0           999          -999          -999           999  \n1           999          -999          -999           999  \n2           999          -999          -999           999  \n3           999          -999          -999           999  \n4           999          -999          -999           999  \n\n[5 rows x 21 columns]",
      "text/html": "<div>\n<style scoped>\n    .dataframe tbody tr th:only-of-type {\n        vertical-align: middle;\n    }\n\n    .dataframe tbody tr th {\n        vertical-align: top;\n    }\n\n    .dataframe thead th {\n        text-align: right;\n    }\n</style>\n<table border=\"1\" class=\"dataframe\">\n  <thead>\n    <tr style=\"text-align: right;\">\n      <th></th>\n      <th>hurricane_id</th>\n      <th>measure_date</th>\n      <th>measure_time</th>\n      <th>event</th>\n      <th>status</th>\n      <th>latitude</th>\n      <th>longitude</th>\n      <th>max_wind</th>\n      <th>min_pressure</th>\n      <th>low_wind_ne</th>\n      <th>...</th>\n      <th>low_wind_sw</th>\n      <th>low_wind_nw</th>\n      <th>mod_wind_ne</th>\n      <th>mod_wind_se</th>\n      <th>mod_wind_sw</th>\n      <th>mod_wind_nw</th>\n      <th>high_wind_ne</th>\n      <th>high_wind_se</th>\n      <th>high_wind_sw</th>\n      <th>high_wind_nw</th>\n    </tr>\n  </thead>\n  <tbody>\n    <tr>\n      <th>0</th>\n      <td>EP011949</td>\n      <td>1949-06-11</td>\n      <td>1900-01-01 00:00:00</td>\n      <td></td>\n      <td>TS</td>\n      <td>20.2N</td>\n      <td>106.3W</td>\n      <td>45</td>\n      <td>-999</td>\n      <td>999</td>\n      <td>...</td>\n      <td>-999</td>\n      <td>999</td>\n      <td>999</td>\n      <td>-999</td>\n      <td>-999</td>\n      <td>999</td>\n      <td>999</td>\n      <td>-999</td>\n      <td>-999</td>\n      <td>999</td>\n    </tr>\n    <tr>\n      <th>1</th>\n      <td>EP011949</td>\n      <td>1949-06-11</td>\n      <td>1900-01-01 06:00:00</td>\n      <td></td>\n      <td>TS</td>\n      <td>20.2N</td>\n      <td>106.4W</td>\n      <td>45</td>\n      <td>-999</td>\n      <td>999</td>\n      <td>...</td>\n      <td>-999</td>\n      <td>999</td>\n      <td>999</td>\n      <td>-999</td>\n      <td>-999</td>\n      <td>999</td>\n      <td>999</td>\n      <td>-999</td>\n      <td>-999</td>\n      <td>999</td>\n    </tr>\n    <tr>\n      <th>2</th>\n      <td>EP011949</td>\n      <td>1949-06-11</td>\n      <td>1900-01-01 12:00:00</td>\n      <td></td>\n      <td>TS</td>\n      <td>20.2N</td>\n      <td>106.7W</td>\n      <td>45</td>\n      <td>-999</td>\n      <td>999</td>\n      <td>...</td>\n      <td>-999</td>\n      <td>999</td>\n      <td>999</td>\n      <td>-999</td>\n      <td>-999</td>\n      <td>999</td>\n      <td>999</td>\n      <td>-999</td>\n      <td>-999</td>\n      <td>999</td>\n    </tr>\n    <tr>\n      <th>3</th>\n      <td>EP011949</td>\n      <td>1949-06-11</td>\n      <td>1900-01-01 18:00:00</td>\n      <td></td>\n      <td>TS</td>\n      <td>20.3N</td>\n      <td>107.7W</td>\n      <td>45</td>\n      <td>-999</td>\n      <td>999</td>\n      <td>...</td>\n      <td>-999</td>\n      <td>999</td>\n      <td>999</td>\n      <td>-999</td>\n      <td>-999</td>\n      <td>999</td>\n      <td>999</td>\n      <td>-999</td>\n      <td>-999</td>\n      <td>999</td>\n    </tr>\n    <tr>\n      <th>4</th>\n      <td>EP011949</td>\n      <td>1949-06-12</td>\n      <td>1900-01-01 00:00:00</td>\n      <td></td>\n      <td>TS</td>\n      <td>20.4N</td>\n      <td>108.6W</td>\n      <td>45</td>\n      <td>-999</td>\n      <td>999</td>\n      <td>...</td>\n      <td>-999</td>\n      <td>999</td>\n      <td>999</td>\n      <td>-999</td>\n      <td>-999</td>\n      <td>999</td>\n      <td>999</td>\n      <td>-999</td>\n      <td>-999</td>\n      <td>999</td>\n    </tr>\n  </tbody>\n</table>\n<p>5 rows × 21 columns</p>\n</div>"
     },
     "execution_count": 81,
     "metadata": {},
     "output_type": "execute_result"
    }
   ],
   "source": [
    "pacific_measurement_df['measure_date'] = pd.to_datetime(pacific_measurement_df['measure_date'], format='%Y%m%d')\n",
    "pacific_measurement_df['measure_time'] = pacific_measurement_df['measure_time'].replace(0, '0000')\n",
    "pacific_measurement_df['measure_time'] = pd.to_datetime(pacific_measurement_df['measure_time'], format='%H%M')\n",
    "pacific_measurement_df.head()"
   ],
   "metadata": {
    "collapsed": false,
    "pycharm": {
     "name": "#%% fix date and time columns\n"
    }
   }
  },
  {
   "cell_type": "code",
   "execution_count": 82,
   "outputs": [],
   "source": [
    "pacific_measurement_df.to_sql('measurements', connector.engine, index=False, if_exists='append')"
   ],
   "metadata": {
    "collapsed": false,
    "pycharm": {
     "name": "#%% Upload atlantic data to database\n"
    }
   }
  }
 ],
 "metadata": {
  "kernelspec": {
   "display_name": "Python 3",
   "language": "python",
   "name": "python3"
  },
  "language_info": {
   "codemirror_mode": {
    "name": "ipython",
    "version": 3
   },
   "file_extension": ".py",
   "mimetype": "text/x-python",
   "name": "python",
   "nbconvert_exporter": "python",
   "pygments_lexer": "ipython3",
   "version": "3.8.5"
  }
 },
 "nbformat": 4,
 "nbformat_minor": 4
}