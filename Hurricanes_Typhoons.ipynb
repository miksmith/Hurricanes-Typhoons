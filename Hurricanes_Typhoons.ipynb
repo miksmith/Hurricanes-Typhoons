{
 "cells": [
  {
   "cell_type": "code",
   "execution_count": 1,
   "metadata": {},
   "outputs": [],
   "source": [
    "# Dependencies\n",
    "# ----------------------------------\n",
    "from sqlalchemy import create_engine\n",
    "from sqlalchemy.ext.declarative import declarative_base\n",
    "import pandas as pd\n",
    "Base = declarative_base()\n",
    "\n",
    "from Scripts import sqlconnector"
   ]
  },
  {
   "cell_type": "code",
   "execution_count": 23,
   "metadata": {
    "pycharm": {
     "name": "#%%\n"
    }
   },
   "outputs": [],
   "source": [
    "# Create sqlalchemy Connection\n",
    "connector = sqlconnector.sqliteConnector()"
   ]
  },
  {
   "cell_type": "code",
   "execution_count": null,
   "outputs": [],
   "source": [
    "# Create Database and Tables\n",
    "sqlconnector.create_tables()"
   ],
   "metadata": {
    "collapsed": false,
    "pycharm": {
     "name": "#%%\n"
    }
   }
  },
  {
   "cell_type": "code",
   "execution_count": 11,
   "outputs": [],
   "source": [
    "atlantic_df = pd.read_csv('Resources/file/atlantic.csv')\n",
    "pacific_df = pd.read_csv('Resources/file/pacific.csv')"
   ],
   "metadata": {
    "collapsed": false,
    "pycharm": {
     "name": "#%% import to pandas\n"
    }
   }
  },
  {
   "cell_type": "code",
   "execution_count": 25,
   "outputs": [],
   "source": [
    "atlantic_hurricane_df = atlantic_df.loc[:,['ID', 'Name']].drop_duplicates()\n",
    "# add region\n",
    "atlantic_hurricane_df['region'] = 'Atlantic'\n",
    "\n",
    "# fix column names\n",
    "atlantic_hurricane_df = atlantic_hurricane_df.rename(columns={\n",
    "    'ID': 'hurricane_id',\n",
    "    'Name': 'hurricane_name'\n",
    "})"
   ],
   "metadata": {
    "collapsed": false,
    "pycharm": {
     "name": "#%%\n"
    }
   }
  },
  {
   "cell_type": "code",
   "execution_count": 26,
   "outputs": [],
   "source": [
    "atlantic_hurricane_df.to_sql('hurricane', connector.engine, index=False, if_exists='append')\n"
   ],
   "metadata": {
    "collapsed": false,
    "pycharm": {
     "name": "#%% Write to table\n"
    }
   }
  },
  {
   "cell_type": "code",
   "execution_count": 27,
   "outputs": [],
   "source": [
    "pacific_hurricane_df = pacific_df.loc[:,['ID', 'Name']].drop_duplicates()\n",
    "# add region\n",
    "pacific_hurricane_df['region'] = 'Pacific'\n",
    "\n",
    "# fix column names\n",
    "pacific_hurricane_df = pacific_hurricane_df.rename(columns={\n",
    "    'ID': 'hurricane_id',\n",
    "    'Name': 'hurricane_name'\n",
    "})"
   ],
   "metadata": {
    "collapsed": false,
    "pycharm": {
     "name": "#%%\n"
    }
   }
  },
  {
   "cell_type": "code",
   "execution_count": 28,
   "outputs": [],
   "source": [
    "pacific_hurricane_df.to_sql('hurricane', connector.engine, index=False, if_exists='append')"
   ],
   "metadata": {
    "collapsed": false,
    "pycharm": {
     "name": "#%% Write to table\n"
    }
   }
  },
  {
   "cell_type": "code",
   "execution_count": null,
   "outputs": [],
   "source": [],
   "metadata": {
    "collapsed": false,
    "pycharm": {
     "name": "#%% Create Measurement Dataframe\n"
    }
   }
  }
 ],
 "metadata": {
  "kernelspec": {
   "display_name": "Python 3",
   "language": "python",
   "name": "python3"
  },
  "language_info": {
   "codemirror_mode": {
    "name": "ipython",
    "version": 3
   },
   "file_extension": ".py",
   "mimetype": "text/x-python",
   "name": "python",
   "nbconvert_exporter": "python",
   "pygments_lexer": "ipython3",
   "version": "3.8.5"
  }
 },
 "nbformat": 4,
 "nbformat_minor": 4
}